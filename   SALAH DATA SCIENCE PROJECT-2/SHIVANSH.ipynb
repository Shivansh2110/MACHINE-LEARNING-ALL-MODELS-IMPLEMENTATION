{
 "cells": [
  {
   "cell_type": "markdown",
   "id": "d9e7cbf6",
   "metadata": {},
   "source": [
    "# 1.PRE - PROCESSING"
   ]
  },
  {
   "cell_type": "markdown",
   "id": "1f751bdf",
   "metadata": {},
   "source": [
    "# IMPUTATION"
   ]
  },
  {
   "cell_type": "code",
   "execution_count": 1,
   "id": "d8ceac66",
   "metadata": {},
   "outputs": [],
   "source": [
    "import numpy as np\n",
    "import pandas as pd\n",
    "from sklearn.impute import  SimpleImputer, KNNImputer"
   ]
  },
  {
   "cell_type": "markdown",
   "id": "089a4b73",
   "metadata": {},
   "source": [
    "# MEAN"
   ]
  },
  {
   "cell_type": "code",
   "execution_count": 2,
   "id": "6a220b4b",
   "metadata": {},
   "outputs": [
    {
     "data": {
      "text/plain": [
       "array([[10., 20., 30.],\n",
       "       [40., 50., 60.],\n",
       "       [70., 80., 90.]])"
      ]
     },
     "execution_count": 2,
     "metadata": {},
     "output_type": "execute_result"
    }
   ],
   "source": [
    "a1 =[[10,20,30],[np.nan,50,60],[70,80,90]]\n",
    "si = SimpleImputer(missing_values = np.nan, strategy = 'mean')\n",
    "a1 = si.fit_transform(a1)\n",
    "a1"
   ]
  },
  {
   "cell_type": "markdown",
   "id": "48b73571",
   "metadata": {},
   "source": [
    "# MEDIAN"
   ]
  },
  {
   "cell_type": "code",
   "execution_count": 3,
   "id": "71d2b549",
   "metadata": {},
   "outputs": [
    {
     "data": {
      "text/plain": [
       "array([[10., 20., 30.],\n",
       "       [40., 50., 60.],\n",
       "       [70., 80., 90.]])"
      ]
     },
     "execution_count": 3,
     "metadata": {},
     "output_type": "execute_result"
    }
   ],
   "source": [
    "a1 =[[10,20,30],[np.nan,50,60],[70,80,90]]\n",
    "si = SimpleImputer(missing_values = np.nan, strategy = 'median')\n",
    "a1 = si.fit_transform(a1)\n",
    "a1"
   ]
  },
  {
   "cell_type": "markdown",
   "id": "272ccf41",
   "metadata": {},
   "source": [
    "# MOST FREQUENT"
   ]
  },
  {
   "cell_type": "code",
   "execution_count": 4,
   "id": "c30273ef",
   "metadata": {},
   "outputs": [
    {
     "name": "stderr",
     "output_type": "stream",
     "text": [
      "C:\\Users\\SHIVANSH SHEKHAR\\anaconda3\\lib\\site-packages\\sklearn\\impute\\_base.py:49: FutureWarning: Unlike other reduction functions (e.g. `skew`, `kurtosis`), the default behavior of `mode` typically preserves the axis it acts along. In SciPy 1.11.0, this behavior will change: the default value of `keepdims` will become False, the `axis` over which the statistic is taken will be eliminated, and the value None will no longer be accepted. Set `keepdims` to True or False to avoid this warning.\n",
      "  mode = stats.mode(array)\n"
     ]
    },
    {
     "data": {
      "text/plain": [
       "array([[10., 20., 30.],\n",
       "       [ 5., 50., 60.],\n",
       "       [ 5., 80., 90.],\n",
       "       [ 5.,  7.,  8.]])"
      ]
     },
     "execution_count": 4,
     "metadata": {},
     "output_type": "execute_result"
    }
   ],
   "source": [
    "a1 =[[10,20,30],[np.nan,50,60],[5,80,90],[5,7,8]]\n",
    "si = SimpleImputer(missing_values = np.nan, strategy = 'most_frequent')\n",
    "a1 = si.fit_transform(a1)\n",
    "a1"
   ]
  },
  {
   "cell_type": "markdown",
   "id": "fc2876e6",
   "metadata": {},
   "source": [
    "# CONSTANT"
   ]
  },
  {
   "cell_type": "code",
   "execution_count": 5,
   "id": "91b0b213",
   "metadata": {},
   "outputs": [
    {
     "data": {
      "text/plain": [
       "array([[10., 20., 30.],\n",
       "       [21., 50., 60.],\n",
       "       [70., 80., 90.]])"
      ]
     },
     "execution_count": 5,
     "metadata": {},
     "output_type": "execute_result"
    }
   ],
   "source": [
    "a1 =[[10,20,30],[np.nan,50,60],[70,80,90]]\n",
    "si = SimpleImputer(missing_values = np.nan, strategy = 'constant', fill_value = 21)\n",
    "a1 = si.fit_transform(a1)\n",
    "a1"
   ]
  },
  {
   "cell_type": "markdown",
   "id": "c093a36d",
   "metadata": {},
   "source": [
    "# knnimputer"
   ]
  },
  {
   "cell_type": "code",
   "execution_count": 6,
   "id": "f77a11e0",
   "metadata": {},
   "outputs": [
    {
     "data": {
      "text/plain": [
       "array([[ 4.        ,  5.        , 11.66666667],\n",
       "       [ 7.        ,  8.        ,  9.        ],\n",
       "       [10.        ,  7.33333333, 14.        ],\n",
       "       [ 3.        ,  9.        , 12.        ]])"
      ]
     },
     "execution_count": 6,
     "metadata": {},
     "output_type": "execute_result"
    }
   ],
   "source": [
    "a2 = [[4,5,np.nan],[7,8,9],[10,np.nan,14],[3,9,12]]\n",
    "knnimp = KNNImputer(n_neighbors = 3)\n",
    "a2 =knnimp.fit_transform(a2)\n",
    "a2"
   ]
  },
  {
   "cell_type": "markdown",
   "id": "0b888710",
   "metadata": {},
   "source": [
    "# SCALING"
   ]
  },
  {
   "cell_type": "code",
   "execution_count": 7,
   "id": "604257da",
   "metadata": {},
   "outputs": [],
   "source": [
    "from sklearn.preprocessing import MinMaxScaler, StandardScaler"
   ]
  },
  {
   "cell_type": "code",
   "execution_count": 8,
   "id": "fb6a8f91",
   "metadata": {},
   "outputs": [
    {
     "data": {
      "text/plain": [
       "array([ 23, 191, 330, 358, 125,  32, 165, 409, 230, 311, 154, 371,  63,\n",
       "       243, 197, 238, 153, 460,  98, 380, 266, 328, 169, 113, 237,  62,\n",
       "       130,  53, 127, 115, 256, 217, 131, 178, 321, 490, 293, 105, 127,\n",
       "       239, 180,  44, 156, 123, 144, 170,  74,  35,  87, 147, 286, 162,\n",
       "        29,  92, 281, 174, 442, 423, 180, 210, 151, 124, 355, 172, 476,\n",
       "       425, 237, 241, 197, 355, 227,  63,  97, 308,  31, 372, 267,  47,\n",
       "       105, 123])"
      ]
     },
     "execution_count": 8,
     "metadata": {},
     "output_type": "execute_result"
    }
   ],
   "source": [
    "ar = np.random.randint(10,500,size = 80)\n",
    "ar"
   ]
  },
  {
   "cell_type": "code",
   "execution_count": 9,
   "id": "1d6bc876",
   "metadata": {},
   "outputs": [
    {
     "data": {
      "text/plain": [
       "array([[0.        , 0.35974304, 0.65738758, 0.71734475, 0.21841542,\n",
       "        0.01927195, 0.30406852, 0.82655246, 0.44325482, 0.61670236,\n",
       "        0.28051392, 0.74518201, 0.0856531 , 0.47109208, 0.37259101,\n",
       "        0.46038544, 0.27837259, 0.93576017, 0.16059957, 0.76445396,\n",
       "        0.52034261, 0.65310493, 0.31263383, 0.19271949, 0.45824411,\n",
       "        0.08351178, 0.22912206, 0.06423983, 0.22269807, 0.19700214,\n",
       "        0.49892934, 0.41541756, 0.23126338, 0.33190578, 0.63811563,\n",
       "        1.        , 0.57815846, 0.17558887, 0.22269807, 0.46252677,\n",
       "        0.33618844, 0.04496788, 0.28479657, 0.21413276, 0.25910064,\n",
       "        0.31477516, 0.10920771, 0.02569593, 0.13704497, 0.26552463,\n",
       "        0.56316916, 0.29764454, 0.01284797, 0.14775161, 0.55246253,\n",
       "        0.32334047, 0.89721627, 0.85653105, 0.33618844, 0.40042827,\n",
       "        0.27408994, 0.21627409, 0.71092077, 0.31905782, 0.97002141,\n",
       "        0.8608137 , 0.45824411, 0.46680942, 0.37259101, 0.71092077,\n",
       "        0.43683084, 0.0856531 , 0.15845824, 0.61027837, 0.01713062,\n",
       "        0.74732334, 0.52248394, 0.05139186, 0.17558887, 0.21413276]])"
      ]
     },
     "execution_count": 9,
     "metadata": {},
     "output_type": "execute_result"
    }
   ],
   "source": [
    "ar = ar.reshape(-1,1)\n",
    "mimascl = MinMaxScaler()\n",
    "norm_ar = mimascl.fit_transform(ar)\n",
    "norm_ar.reshape(1,-1)"
   ]
  },
  {
   "cell_type": "code",
   "execution_count": 10,
   "id": "fcb679f0",
   "metadata": {},
   "outputs": [
    {
     "data": {
      "text/plain": [
       "array([[-1.51311067, -0.10673395,  1.05687537,  1.29127149, -0.65923909,\n",
       "        -1.43776906, -0.32438749,  1.71820728,  0.21974636,  0.89782086,\n",
       "        -0.41647168,  1.40009826, -1.17825907,  0.32857313, -0.05650621,\n",
       "         0.28671668, -0.42484297,  2.14514307, -0.88526392,  1.47543987,\n",
       "         0.5211128 ,  1.04013279, -0.29090233, -0.75969457,  0.27834539,\n",
       "        -1.18663036, -0.61738264, -1.26197197, -0.64249651, -0.74295199,\n",
       "         0.4373999 ,  0.11091959, -0.60901135, -0.21556072,  0.98153376,\n",
       "         2.39628177,  0.74713763, -0.82666489, -0.64249651,  0.29508797,\n",
       "        -0.19881814, -1.33731358, -0.3997291 , -0.67598167, -0.50018458,\n",
       "        -0.28253104, -1.08617488, -1.41265519, -0.97734811, -0.47507071,\n",
       "         0.6885386 , -0.34950136, -1.46288293, -0.93549166,  0.64668215,\n",
       "        -0.24904588,  1.99445985,  1.83540534, -0.19881814,  0.05232056,\n",
       "        -0.44158555, -0.66761038,  1.26615762, -0.26578846,  2.27908371,\n",
       "         1.85214792,  0.27834539,  0.31183055, -0.05650621,  1.26615762,\n",
       "         0.19463249, -1.17825907, -0.89363521,  0.87270699, -1.44614035,\n",
       "         1.40846955,  0.52948409, -1.31219971, -0.82666489, -0.67598167]])"
      ]
     },
     "execution_count": 10,
     "metadata": {},
     "output_type": "execute_result"
    }
   ],
   "source": [
    "stdscl = StandardScaler()\n",
    "st_ar = stdscl.fit_transform(ar)\n",
    "st_ar.reshape(1,-1)"
   ]
  },
  {
   "cell_type": "markdown",
   "id": "fe25b16a",
   "metadata": {},
   "source": [
    " # ENCODING  & COLUMN TRANSFORMERS"
   ]
  },
  {
   "cell_type": "code",
   "execution_count": 11,
   "id": "8c3cb9a6",
   "metadata": {},
   "outputs": [],
   "source": [
    "from sklearn.preprocessing import OneHotEncoder, LabelEncoder, OrdinalEncoder"
   ]
  },
  {
   "cell_type": "markdown",
   "id": "a22e927c",
   "metadata": {},
   "source": [
    "- **ORDINAL ENCODER**"
   ]
  },
  {
   "cell_type": "code",
   "execution_count": 12,
   "id": "3135d0f4",
   "metadata": {},
   "outputs": [
    {
     "data": {
      "text/html": [
       "<div>\n",
       "<style scoped>\n",
       "    .dataframe tbody tr th:only-of-type {\n",
       "        vertical-align: middle;\n",
       "    }\n",
       "\n",
       "    .dataframe tbody tr th {\n",
       "        vertical-align: top;\n",
       "    }\n",
       "\n",
       "    .dataframe thead th {\n",
       "        text-align: right;\n",
       "    }\n",
       "</style>\n",
       "<table border=\"1\" class=\"dataframe\">\n",
       "  <thead>\n",
       "    <tr style=\"text-align: right;\">\n",
       "      <th></th>\n",
       "      <th>category</th>\n",
       "    </tr>\n",
       "  </thead>\n",
       "  <tbody>\n",
       "    <tr>\n",
       "      <th>0</th>\n",
       "      <td>poor</td>\n",
       "    </tr>\n",
       "    <tr>\n",
       "      <th>1</th>\n",
       "      <td>moderate</td>\n",
       "    </tr>\n",
       "    <tr>\n",
       "      <th>2</th>\n",
       "      <td>good</td>\n",
       "    </tr>\n",
       "    <tr>\n",
       "      <th>3</th>\n",
       "      <td>moderate</td>\n",
       "    </tr>\n",
       "    <tr>\n",
       "      <th>4</th>\n",
       "      <td>moderate</td>\n",
       "    </tr>\n",
       "    <tr>\n",
       "      <th>5</th>\n",
       "      <td>good</td>\n",
       "    </tr>\n",
       "  </tbody>\n",
       "</table>\n",
       "</div>"
      ],
      "text/plain": [
       "   category\n",
       "0      poor\n",
       "1  moderate\n",
       "2      good\n",
       "3  moderate\n",
       "4  moderate\n",
       "5      good"
      ]
     },
     "execution_count": 12,
     "metadata": {},
     "output_type": "execute_result"
    }
   ],
   "source": [
    "df = pd.DataFrame({'category':['poor','moderate','good','moderate','moderate','good']})\n",
    "df"
   ]
  },
  {
   "cell_type": "code",
   "execution_count": 13,
   "id": "02f7da51",
   "metadata": {},
   "outputs": [],
   "source": [
    "order = ['poor','moderate','good']"
   ]
  },
  {
   "cell_type": "code",
   "execution_count": 14,
   "id": "380422f0",
   "metadata": {},
   "outputs": [
    {
     "data": {
      "text/plain": [
       "array([[0.],\n",
       "       [1.],\n",
       "       [2.],\n",
       "       [1.],\n",
       "       [1.],\n",
       "       [2.]])"
      ]
     },
     "execution_count": 14,
     "metadata": {},
     "output_type": "execute_result"
    }
   ],
   "source": [
    "oe = OrdinalEncoder(categories=[order])\n",
    "oe.fit_transform(df['category'].values.reshape(-1,1))"
   ]
  },
  {
   "cell_type": "code",
   "execution_count": 15,
   "id": "4128d458",
   "metadata": {},
   "outputs": [],
   "source": [
    "data = np.array(['red','green','blue']).reshape(-1,1)"
   ]
  },
  {
   "cell_type": "markdown",
   "id": "2d684e36",
   "metadata": {},
   "source": [
    "- **ONEHOT ENCODER**"
   ]
  },
  {
   "cell_type": "code",
   "execution_count": 16,
   "id": "73a2b28e",
   "metadata": {},
   "outputs": [],
   "source": [
    "ohe = OneHotEncoder(sparse=False)\n",
    "encoded = ohe.fit_transform(data)"
   ]
  },
  {
   "cell_type": "code",
   "execution_count": 17,
   "id": "f5548938",
   "metadata": {},
   "outputs": [
    {
     "data": {
      "text/plain": [
       "array([[0., 0., 1.],\n",
       "       [0., 1., 0.],\n",
       "       [1., 0., 0.]])"
      ]
     },
     "execution_count": 17,
     "metadata": {},
     "output_type": "execute_result"
    }
   ],
   "source": [
    "encoded"
   ]
  },
  {
   "cell_type": "code",
   "execution_count": 18,
   "id": "7e5118e9",
   "metadata": {},
   "outputs": [
    {
     "data": {
      "text/plain": [
       "array(['x0_blue', 'x0_green', 'x0_red'], dtype=object)"
      ]
     },
     "execution_count": 18,
     "metadata": {},
     "output_type": "execute_result"
    }
   ],
   "source": [
    "ohe.get_feature_names_out()"
   ]
  },
  {
   "cell_type": "code",
   "execution_count": 19,
   "id": "ad4022ac",
   "metadata": {},
   "outputs": [],
   "source": [
    "encoded_df = pd.DataFrame(encoded, columns=ohe.get_feature_names_out())"
   ]
  },
  {
   "cell_type": "code",
   "execution_count": 20,
   "id": "fef98a59",
   "metadata": {},
   "outputs": [
    {
     "data": {
      "text/html": [
       "<div>\n",
       "<style scoped>\n",
       "    .dataframe tbody tr th:only-of-type {\n",
       "        vertical-align: middle;\n",
       "    }\n",
       "\n",
       "    .dataframe tbody tr th {\n",
       "        vertical-align: top;\n",
       "    }\n",
       "\n",
       "    .dataframe thead th {\n",
       "        text-align: right;\n",
       "    }\n",
       "</style>\n",
       "<table border=\"1\" class=\"dataframe\">\n",
       "  <thead>\n",
       "    <tr style=\"text-align: right;\">\n",
       "      <th></th>\n",
       "      <th>x0_blue</th>\n",
       "      <th>x0_green</th>\n",
       "      <th>x0_red</th>\n",
       "    </tr>\n",
       "  </thead>\n",
       "  <tbody>\n",
       "    <tr>\n",
       "      <th>0</th>\n",
       "      <td>0.0</td>\n",
       "      <td>0.0</td>\n",
       "      <td>1.0</td>\n",
       "    </tr>\n",
       "    <tr>\n",
       "      <th>1</th>\n",
       "      <td>0.0</td>\n",
       "      <td>1.0</td>\n",
       "      <td>0.0</td>\n",
       "    </tr>\n",
       "    <tr>\n",
       "      <th>2</th>\n",
       "      <td>1.0</td>\n",
       "      <td>0.0</td>\n",
       "      <td>0.0</td>\n",
       "    </tr>\n",
       "  </tbody>\n",
       "</table>\n",
       "</div>"
      ],
      "text/plain": [
       "   x0_blue  x0_green  x0_red\n",
       "0      0.0       0.0     1.0\n",
       "1      0.0       1.0     0.0\n",
       "2      1.0       0.0     0.0"
      ]
     },
     "execution_count": 20,
     "metadata": {},
     "output_type": "execute_result"
    }
   ],
   "source": [
    "encoded_df"
   ]
  },
  {
   "cell_type": "markdown",
   "id": "f5d22c36",
   "metadata": {},
   "source": [
    "- **LABEL ENCODER**"
   ]
  },
  {
   "cell_type": "code",
   "execution_count": 21,
   "id": "2a8ce6de",
   "metadata": {},
   "outputs": [],
   "source": [
    "le = LabelEncoder()\n",
    "order = ['poor','moderate','good']"
   ]
  },
  {
   "cell_type": "code",
   "execution_count": 22,
   "id": "6519eb86",
   "metadata": {},
   "outputs": [
    {
     "data": {
      "text/plain": [
       "array([2, 1, 0], dtype=int64)"
      ]
     },
     "execution_count": 22,
     "metadata": {},
     "output_type": "execute_result"
    }
   ],
   "source": [
    "le.fit_transform(order)"
   ]
  },
  {
   "cell_type": "markdown",
   "id": "5251e95a",
   "metadata": {},
   "source": [
    "# coloumntransformer"
   ]
  },
  {
   "cell_type": "code",
   "execution_count": 23,
   "id": "dff6ae4f",
   "metadata": {},
   "outputs": [
    {
     "data": {
      "text/html": [
       "<div>\n",
       "<style scoped>\n",
       "    .dataframe tbody tr th:only-of-type {\n",
       "        vertical-align: middle;\n",
       "    }\n",
       "\n",
       "    .dataframe tbody tr th {\n",
       "        vertical-align: top;\n",
       "    }\n",
       "\n",
       "    .dataframe thead th {\n",
       "        text-align: right;\n",
       "    }\n",
       "</style>\n",
       "<table border=\"1\" class=\"dataframe\">\n",
       "  <thead>\n",
       "    <tr style=\"text-align: right;\">\n",
       "      <th></th>\n",
       "      <th>age</th>\n",
       "      <th>gender</th>\n",
       "      <th>fever</th>\n",
       "      <th>cough</th>\n",
       "      <th>city</th>\n",
       "      <th>has_covid</th>\n",
       "    </tr>\n",
       "  </thead>\n",
       "  <tbody>\n",
       "    <tr>\n",
       "      <th>0</th>\n",
       "      <td>60</td>\n",
       "      <td>Male</td>\n",
       "      <td>103.0</td>\n",
       "      <td>Mild</td>\n",
       "      <td>Kolkata</td>\n",
       "      <td>No</td>\n",
       "    </tr>\n",
       "    <tr>\n",
       "      <th>1</th>\n",
       "      <td>27</td>\n",
       "      <td>Male</td>\n",
       "      <td>100.0</td>\n",
       "      <td>Mild</td>\n",
       "      <td>Delhi</td>\n",
       "      <td>Yes</td>\n",
       "    </tr>\n",
       "    <tr>\n",
       "      <th>2</th>\n",
       "      <td>42</td>\n",
       "      <td>Male</td>\n",
       "      <td>101.0</td>\n",
       "      <td>Mild</td>\n",
       "      <td>Delhi</td>\n",
       "      <td>No</td>\n",
       "    </tr>\n",
       "    <tr>\n",
       "      <th>3</th>\n",
       "      <td>31</td>\n",
       "      <td>Female</td>\n",
       "      <td>98.0</td>\n",
       "      <td>Mild</td>\n",
       "      <td>Kolkata</td>\n",
       "      <td>No</td>\n",
       "    </tr>\n",
       "    <tr>\n",
       "      <th>4</th>\n",
       "      <td>65</td>\n",
       "      <td>Female</td>\n",
       "      <td>101.0</td>\n",
       "      <td>Mild</td>\n",
       "      <td>Mumbai</td>\n",
       "      <td>No</td>\n",
       "    </tr>\n",
       "    <tr>\n",
       "      <th>...</th>\n",
       "      <td>...</td>\n",
       "      <td>...</td>\n",
       "      <td>...</td>\n",
       "      <td>...</td>\n",
       "      <td>...</td>\n",
       "      <td>...</td>\n",
       "    </tr>\n",
       "    <tr>\n",
       "      <th>95</th>\n",
       "      <td>12</td>\n",
       "      <td>Female</td>\n",
       "      <td>104.0</td>\n",
       "      <td>Mild</td>\n",
       "      <td>Bangalore</td>\n",
       "      <td>No</td>\n",
       "    </tr>\n",
       "    <tr>\n",
       "      <th>96</th>\n",
       "      <td>51</td>\n",
       "      <td>Female</td>\n",
       "      <td>101.0</td>\n",
       "      <td>Strong</td>\n",
       "      <td>Kolkata</td>\n",
       "      <td>Yes</td>\n",
       "    </tr>\n",
       "    <tr>\n",
       "      <th>97</th>\n",
       "      <td>20</td>\n",
       "      <td>Female</td>\n",
       "      <td>101.0</td>\n",
       "      <td>Mild</td>\n",
       "      <td>Bangalore</td>\n",
       "      <td>No</td>\n",
       "    </tr>\n",
       "    <tr>\n",
       "      <th>98</th>\n",
       "      <td>5</td>\n",
       "      <td>Female</td>\n",
       "      <td>98.0</td>\n",
       "      <td>Strong</td>\n",
       "      <td>Mumbai</td>\n",
       "      <td>No</td>\n",
       "    </tr>\n",
       "    <tr>\n",
       "      <th>99</th>\n",
       "      <td>10</td>\n",
       "      <td>Female</td>\n",
       "      <td>98.0</td>\n",
       "      <td>Strong</td>\n",
       "      <td>Kolkata</td>\n",
       "      <td>Yes</td>\n",
       "    </tr>\n",
       "  </tbody>\n",
       "</table>\n",
       "<p>100 rows × 6 columns</p>\n",
       "</div>"
      ],
      "text/plain": [
       "    age  gender  fever   cough       city has_covid\n",
       "0    60    Male  103.0    Mild    Kolkata        No\n",
       "1    27    Male  100.0    Mild      Delhi       Yes\n",
       "2    42    Male  101.0    Mild      Delhi        No\n",
       "3    31  Female   98.0    Mild    Kolkata        No\n",
       "4    65  Female  101.0    Mild     Mumbai        No\n",
       "..  ...     ...    ...     ...        ...       ...\n",
       "95   12  Female  104.0    Mild  Bangalore        No\n",
       "96   51  Female  101.0  Strong    Kolkata       Yes\n",
       "97   20  Female  101.0    Mild  Bangalore        No\n",
       "98    5  Female   98.0  Strong     Mumbai        No\n",
       "99   10  Female   98.0  Strong    Kolkata       Yes\n",
       "\n",
       "[100 rows x 6 columns]"
      ]
     },
     "execution_count": 23,
     "metadata": {},
     "output_type": "execute_result"
    }
   ],
   "source": [
    "df = pd.read_csv('covid_toy.csv')\n",
    "df"
   ]
  },
  {
   "cell_type": "code",
   "execution_count": 24,
   "id": "8241dd0b",
   "metadata": {},
   "outputs": [
    {
     "data": {
      "text/html": [
       "<div>\n",
       "<style scoped>\n",
       "    .dataframe tbody tr th:only-of-type {\n",
       "        vertical-align: middle;\n",
       "    }\n",
       "\n",
       "    .dataframe tbody tr th {\n",
       "        vertical-align: top;\n",
       "    }\n",
       "\n",
       "    .dataframe thead th {\n",
       "        text-align: right;\n",
       "    }\n",
       "</style>\n",
       "<table border=\"1\" class=\"dataframe\">\n",
       "  <thead>\n",
       "    <tr style=\"text-align: right;\">\n",
       "      <th></th>\n",
       "      <th>age</th>\n",
       "      <th>gender</th>\n",
       "      <th>fever</th>\n",
       "      <th>cough</th>\n",
       "      <th>city</th>\n",
       "    </tr>\n",
       "  </thead>\n",
       "  <tbody>\n",
       "    <tr>\n",
       "      <th>97</th>\n",
       "      <td>20</td>\n",
       "      <td>Female</td>\n",
       "      <td>101.0</td>\n",
       "      <td>Mild</td>\n",
       "      <td>Bangalore</td>\n",
       "    </tr>\n",
       "    <tr>\n",
       "      <th>62</th>\n",
       "      <td>56</td>\n",
       "      <td>Female</td>\n",
       "      <td>104.0</td>\n",
       "      <td>Strong</td>\n",
       "      <td>Bangalore</td>\n",
       "    </tr>\n",
       "    <tr>\n",
       "      <th>0</th>\n",
       "      <td>60</td>\n",
       "      <td>Male</td>\n",
       "      <td>103.0</td>\n",
       "      <td>Mild</td>\n",
       "      <td>Kolkata</td>\n",
       "    </tr>\n",
       "    <tr>\n",
       "      <th>8</th>\n",
       "      <td>19</td>\n",
       "      <td>Female</td>\n",
       "      <td>100.0</td>\n",
       "      <td>Strong</td>\n",
       "      <td>Bangalore</td>\n",
       "    </tr>\n",
       "    <tr>\n",
       "      <th>46</th>\n",
       "      <td>19</td>\n",
       "      <td>Female</td>\n",
       "      <td>101.0</td>\n",
       "      <td>Mild</td>\n",
       "      <td>Mumbai</td>\n",
       "    </tr>\n",
       "    <tr>\n",
       "      <th>...</th>\n",
       "      <td>...</td>\n",
       "      <td>...</td>\n",
       "      <td>...</td>\n",
       "      <td>...</td>\n",
       "      <td>...</td>\n",
       "    </tr>\n",
       "    <tr>\n",
       "      <th>91</th>\n",
       "      <td>38</td>\n",
       "      <td>Male</td>\n",
       "      <td>NaN</td>\n",
       "      <td>Mild</td>\n",
       "      <td>Delhi</td>\n",
       "    </tr>\n",
       "    <tr>\n",
       "      <th>51</th>\n",
       "      <td>11</td>\n",
       "      <td>Female</td>\n",
       "      <td>100.0</td>\n",
       "      <td>Strong</td>\n",
       "      <td>Kolkata</td>\n",
       "    </tr>\n",
       "    <tr>\n",
       "      <th>12</th>\n",
       "      <td>25</td>\n",
       "      <td>Female</td>\n",
       "      <td>99.0</td>\n",
       "      <td>Strong</td>\n",
       "      <td>Kolkata</td>\n",
       "    </tr>\n",
       "    <tr>\n",
       "      <th>83</th>\n",
       "      <td>17</td>\n",
       "      <td>Female</td>\n",
       "      <td>104.0</td>\n",
       "      <td>Mild</td>\n",
       "      <td>Kolkata</td>\n",
       "    </tr>\n",
       "    <tr>\n",
       "      <th>16</th>\n",
       "      <td>69</td>\n",
       "      <td>Female</td>\n",
       "      <td>103.0</td>\n",
       "      <td>Mild</td>\n",
       "      <td>Kolkata</td>\n",
       "    </tr>\n",
       "  </tbody>\n",
       "</table>\n",
       "<p>80 rows × 5 columns</p>\n",
       "</div>"
      ],
      "text/plain": [
       "    age  gender  fever   cough       city\n",
       "97   20  Female  101.0    Mild  Bangalore\n",
       "62   56  Female  104.0  Strong  Bangalore\n",
       "0    60    Male  103.0    Mild    Kolkata\n",
       "8    19  Female  100.0  Strong  Bangalore\n",
       "46   19  Female  101.0    Mild     Mumbai\n",
       "..  ...     ...    ...     ...        ...\n",
       "91   38    Male    NaN    Mild      Delhi\n",
       "51   11  Female  100.0  Strong    Kolkata\n",
       "12   25  Female   99.0  Strong    Kolkata\n",
       "83   17  Female  104.0    Mild    Kolkata\n",
       "16   69  Female  103.0    Mild    Kolkata\n",
       "\n",
       "[80 rows x 5 columns]"
      ]
     },
     "execution_count": 24,
     "metadata": {},
     "output_type": "execute_result"
    }
   ],
   "source": [
    "from sklearn.model_selection import train_test_split\n",
    "X_train,X_test,Y_train,Y_test = train_test_split(df.drop(columns = ['has_covid']),df['has_covid'],test_size = 0.2)\n",
    "from sklearn.compose import ColumnTransformer\n",
    "X_train"
   ]
  },
  {
   "cell_type": "code",
   "execution_count": 25,
   "id": "1b18cd84",
   "metadata": {},
   "outputs": [],
   "source": [
    "transformer = ColumnTransformer(transformers=[\n",
    "    ('transfo1', SimpleImputer(),['fever']),\n",
    "    ('transfo2', OneHotEncoder(sparse= False),['gender','city']),\n",
    "    ('transfo3',OrdinalEncoder(categories = [['Mild','Strong']]),['cough'])\n",
    "],remainder = 'passthrough')"
   ]
  },
  {
   "cell_type": "code",
   "execution_count": 26,
   "id": "a75cc97e",
   "metadata": {},
   "outputs": [
    {
     "data": {
      "text/html": [
       "<div>\n",
       "<style scoped>\n",
       "    .dataframe tbody tr th:only-of-type {\n",
       "        vertical-align: middle;\n",
       "    }\n",
       "\n",
       "    .dataframe tbody tr th {\n",
       "        vertical-align: top;\n",
       "    }\n",
       "\n",
       "    .dataframe thead th {\n",
       "        text-align: right;\n",
       "    }\n",
       "</style>\n",
       "<table border=\"1\" class=\"dataframe\">\n",
       "  <thead>\n",
       "    <tr style=\"text-align: right;\">\n",
       "      <th></th>\n",
       "      <th>0</th>\n",
       "      <th>1</th>\n",
       "      <th>2</th>\n",
       "      <th>3</th>\n",
       "      <th>4</th>\n",
       "      <th>5</th>\n",
       "      <th>6</th>\n",
       "      <th>7</th>\n",
       "      <th>8</th>\n",
       "    </tr>\n",
       "  </thead>\n",
       "  <tbody>\n",
       "    <tr>\n",
       "      <th>0</th>\n",
       "      <td>101.0</td>\n",
       "      <td>1.0</td>\n",
       "      <td>0.0</td>\n",
       "      <td>1.0</td>\n",
       "      <td>0.0</td>\n",
       "      <td>0.0</td>\n",
       "      <td>0.0</td>\n",
       "      <td>0.0</td>\n",
       "      <td>20.0</td>\n",
       "    </tr>\n",
       "    <tr>\n",
       "      <th>1</th>\n",
       "      <td>104.0</td>\n",
       "      <td>1.0</td>\n",
       "      <td>0.0</td>\n",
       "      <td>1.0</td>\n",
       "      <td>0.0</td>\n",
       "      <td>0.0</td>\n",
       "      <td>0.0</td>\n",
       "      <td>1.0</td>\n",
       "      <td>56.0</td>\n",
       "    </tr>\n",
       "    <tr>\n",
       "      <th>2</th>\n",
       "      <td>103.0</td>\n",
       "      <td>0.0</td>\n",
       "      <td>1.0</td>\n",
       "      <td>0.0</td>\n",
       "      <td>0.0</td>\n",
       "      <td>1.0</td>\n",
       "      <td>0.0</td>\n",
       "      <td>0.0</td>\n",
       "      <td>60.0</td>\n",
       "    </tr>\n",
       "    <tr>\n",
       "      <th>3</th>\n",
       "      <td>100.0</td>\n",
       "      <td>1.0</td>\n",
       "      <td>0.0</td>\n",
       "      <td>1.0</td>\n",
       "      <td>0.0</td>\n",
       "      <td>0.0</td>\n",
       "      <td>0.0</td>\n",
       "      <td>1.0</td>\n",
       "      <td>19.0</td>\n",
       "    </tr>\n",
       "    <tr>\n",
       "      <th>4</th>\n",
       "      <td>101.0</td>\n",
       "      <td>1.0</td>\n",
       "      <td>0.0</td>\n",
       "      <td>0.0</td>\n",
       "      <td>0.0</td>\n",
       "      <td>0.0</td>\n",
       "      <td>1.0</td>\n",
       "      <td>0.0</td>\n",
       "      <td>19.0</td>\n",
       "    </tr>\n",
       "    <tr>\n",
       "      <th>...</th>\n",
       "      <td>...</td>\n",
       "      <td>...</td>\n",
       "      <td>...</td>\n",
       "      <td>...</td>\n",
       "      <td>...</td>\n",
       "      <td>...</td>\n",
       "      <td>...</td>\n",
       "      <td>...</td>\n",
       "      <td>...</td>\n",
       "    </tr>\n",
       "    <tr>\n",
       "      <th>75</th>\n",
       "      <td>100.8</td>\n",
       "      <td>0.0</td>\n",
       "      <td>1.0</td>\n",
       "      <td>0.0</td>\n",
       "      <td>1.0</td>\n",
       "      <td>0.0</td>\n",
       "      <td>0.0</td>\n",
       "      <td>0.0</td>\n",
       "      <td>38.0</td>\n",
       "    </tr>\n",
       "    <tr>\n",
       "      <th>76</th>\n",
       "      <td>100.0</td>\n",
       "      <td>1.0</td>\n",
       "      <td>0.0</td>\n",
       "      <td>0.0</td>\n",
       "      <td>0.0</td>\n",
       "      <td>1.0</td>\n",
       "      <td>0.0</td>\n",
       "      <td>1.0</td>\n",
       "      <td>11.0</td>\n",
       "    </tr>\n",
       "    <tr>\n",
       "      <th>77</th>\n",
       "      <td>99.0</td>\n",
       "      <td>1.0</td>\n",
       "      <td>0.0</td>\n",
       "      <td>0.0</td>\n",
       "      <td>0.0</td>\n",
       "      <td>1.0</td>\n",
       "      <td>0.0</td>\n",
       "      <td>1.0</td>\n",
       "      <td>25.0</td>\n",
       "    </tr>\n",
       "    <tr>\n",
       "      <th>78</th>\n",
       "      <td>104.0</td>\n",
       "      <td>1.0</td>\n",
       "      <td>0.0</td>\n",
       "      <td>0.0</td>\n",
       "      <td>0.0</td>\n",
       "      <td>1.0</td>\n",
       "      <td>0.0</td>\n",
       "      <td>0.0</td>\n",
       "      <td>17.0</td>\n",
       "    </tr>\n",
       "    <tr>\n",
       "      <th>79</th>\n",
       "      <td>103.0</td>\n",
       "      <td>1.0</td>\n",
       "      <td>0.0</td>\n",
       "      <td>0.0</td>\n",
       "      <td>0.0</td>\n",
       "      <td>1.0</td>\n",
       "      <td>0.0</td>\n",
       "      <td>0.0</td>\n",
       "      <td>69.0</td>\n",
       "    </tr>\n",
       "  </tbody>\n",
       "</table>\n",
       "<p>80 rows × 9 columns</p>\n",
       "</div>"
      ],
      "text/plain": [
       "        0    1    2    3    4    5    6    7     8\n",
       "0   101.0  1.0  0.0  1.0  0.0  0.0  0.0  0.0  20.0\n",
       "1   104.0  1.0  0.0  1.0  0.0  0.0  0.0  1.0  56.0\n",
       "2   103.0  0.0  1.0  0.0  0.0  1.0  0.0  0.0  60.0\n",
       "3   100.0  1.0  0.0  1.0  0.0  0.0  0.0  1.0  19.0\n",
       "4   101.0  1.0  0.0  0.0  0.0  0.0  1.0  0.0  19.0\n",
       "..    ...  ...  ...  ...  ...  ...  ...  ...   ...\n",
       "75  100.8  0.0  1.0  0.0  1.0  0.0  0.0  0.0  38.0\n",
       "76  100.0  1.0  0.0  0.0  0.0  1.0  0.0  1.0  11.0\n",
       "77   99.0  1.0  0.0  0.0  0.0  1.0  0.0  1.0  25.0\n",
       "78  104.0  1.0  0.0  0.0  0.0  1.0  0.0  0.0  17.0\n",
       "79  103.0  1.0  0.0  0.0  0.0  1.0  0.0  0.0  69.0\n",
       "\n",
       "[80 rows x 9 columns]"
      ]
     },
     "execution_count": 26,
     "metadata": {},
     "output_type": "execute_result"
    }
   ],
   "source": [
    "df1= pd.DataFrame(transformer.fit_transform(X_train))\n",
    "df1"
   ]
  },
  {
   "cell_type": "markdown",
   "id": "b1977dac",
   "metadata": {},
   "source": [
    "# DIFFERENT ML MODELS"
   ]
  },
  {
   "cell_type": "markdown",
   "id": "20533b54",
   "metadata": {},
   "source": [
    "# Linear Regression"
   ]
  },
  {
   "cell_type": "code",
   "execution_count": 27,
   "id": "143139f5",
   "metadata": {},
   "outputs": [],
   "source": [
    "import matplotlib.pyplot as plt\n",
    "from sklearn.linear_model import LinearRegression"
   ]
  },
  {
   "cell_type": "code",
   "execution_count": 28,
   "id": "24f4bd87",
   "metadata": {},
   "outputs": [
    {
     "name": "stdout",
     "output_type": "stream",
     "text": [
      "Coefficients: [0.54]\n",
      "Intercept: 5.633333333333329\n"
     ]
    }
   ],
   "source": [
    "x = np.array([5, 15, 25, 35, 45, 55]).reshape((-1, 1))\n",
    "y = np.array([5, 20, 14, 32, 22, 38])\n",
    "model = LinearRegression()\n",
    "model.fit(x, y)\n",
    "y_pred = model.predict(x)\n",
    "print(\"Coefficients:\", model.coef_)\n",
    "print(\"Intercept:\", model.intercept_)"
   ]
  },
  {
   "cell_type": "code",
   "execution_count": 29,
   "id": "04601de8",
   "metadata": {},
   "outputs": [
    {
     "data": {
      "image/png": "[encoded data removed]",
      "text/plain": [
       "<Figure size 640x480 with 1 Axes>"
      ]
     },
     "metadata": {},
     "output_type": "display_data"
    }
   ],
   "source": [
    "plt.scatter(x, y, color='blue')\n",
    "plt.plot(x, y_pred, color='red', linewidth=3)\n",
    "plt.xlabel('X')\n",
    "plt.ylabel('Y')\n",
    "plt.title('Simple Linear Regression')\n",
    "plt.show()"
   ]
  },
  {
   "cell_type": "markdown",
   "id": "4e3525cf",
   "metadata": {},
   "source": [
    "# KNN MODEL"
   ]
  },
  {
   "cell_type": "code",
   "execution_count": 30,
   "id": "ac7975a5",
   "metadata": {},
   "outputs": [],
   "source": [
    "from sklearn.model_selection import train_test_split\n",
    "from sklearn.neighbors import KNeighborsClassifier\n",
    "from sklearn.datasets import load_wine\n",
    "from sklearn.metrics import accuracy_score\n",
    "from sklearn.preprocessing import StandardScaler"
   ]
  },
  {
   "cell_type": "code",
   "execution_count": 31,
   "id": "fa40c042",
   "metadata": {},
   "outputs": [],
   "source": [
    "wine = load_wine()\n",
    "X = wine.data\n",
    "y = wine.target\n",
    "scaler = StandardScaler()\n",
    "X_scaled = scaler.fit_transform(X)"
   ]
  },
  {
   "cell_type": "code",
   "execution_count": 32,
   "id": "3ae562c6",
   "metadata": {},
   "outputs": [
    {
     "name": "stderr",
     "output_type": "stream",
     "text": [
      "C:\\Users\\SHIVANSH SHEKHAR\\anaconda3\\lib\\site-packages\\sklearn\\neighbors\\_classification.py:228: FutureWarning: Unlike other reduction functions (e.g. `skew`, `kurtosis`), the default behavior of `mode` typically preserves the axis it acts along. In SciPy 1.11.0, this behavior will change: the default value of `keepdims` will become False, the `axis` over which the statistic is taken will be eliminated, and the value None will no longer be accepted. Set `keepdims` to True or False to avoid this warning.\n",
      "  mode, _ = stats.mode(_y[neigh_ind, k], axis=1)\n"
     ]
    },
    {
     "data": {
      "text/plain": [
       "0.9444444444444444"
      ]
     },
     "execution_count": 32,
     "metadata": {},
     "output_type": "execute_result"
    }
   ],
   "source": [
    "X_train, X_test, y_train, y_test = train_test_split(X_scaled, y, test_size=0.2, random_state=42)\n",
    "knn = KNeighborsClassifier(n_neighbors=5)\n",
    "knn.fit(X_train, y_train)\n",
    "y_pred = knn.predict(X_test)\n",
    "accuracy = accuracy_score(y_test, y_pred)\n",
    "accuracy"
   ]
  },
  {
   "cell_type": "markdown",
   "id": "cdc05041",
   "metadata": {},
   "source": [
    "# MULTIPLE LINEAR REGRESSION MODEL"
   ]
  },
  {
   "cell_type": "code",
   "execution_count": 33,
   "id": "0c09f4c8",
   "metadata": {},
   "outputs": [
    {
     "data": {
      "text/html": [
       "<div>\n",
       "<style scoped>\n",
       "    .dataframe tbody tr th:only-of-type {\n",
       "        vertical-align: middle;\n",
       "    }\n",
       "\n",
       "    .dataframe tbody tr th {\n",
       "        vertical-align: top;\n",
       "    }\n",
       "\n",
       "    .dataframe thead th {\n",
       "        text-align: right;\n",
       "    }\n",
       "</style>\n",
       "<table border=\"1\" class=\"dataframe\">\n",
       "  <thead>\n",
       "    <tr style=\"text-align: right;\">\n",
       "      <th></th>\n",
       "      <th>price</th>\n",
       "      <th>crime_rate</th>\n",
       "      <th>resid_area</th>\n",
       "      <th>air_qual</th>\n",
       "      <th>room_num</th>\n",
       "      <th>age</th>\n",
       "      <th>dist1</th>\n",
       "      <th>dist2</th>\n",
       "      <th>dist3</th>\n",
       "      <th>dist4</th>\n",
       "      <th>teachers</th>\n",
       "      <th>poor_prop</th>\n",
       "      <th>airport</th>\n",
       "      <th>n_hos_beds</th>\n",
       "      <th>n_hot_rooms</th>\n",
       "      <th>waterbody</th>\n",
       "      <th>rainfall</th>\n",
       "      <th>bus_ter</th>\n",
       "      <th>parks</th>\n",
       "    </tr>\n",
       "  </thead>\n",
       "  <tbody>\n",
       "    <tr>\n",
       "      <th>0</th>\n",
       "      <td>24.0</td>\n",
       "      <td>0.00632</td>\n",
       "      <td>32.31</td>\n",
       "      <td>0.538</td>\n",
       "      <td>6.575</td>\n",
       "      <td>65.2</td>\n",
       "      <td>4.35</td>\n",
       "      <td>3.81</td>\n",
       "      <td>4.18</td>\n",
       "      <td>4.01</td>\n",
       "      <td>24.7</td>\n",
       "      <td>4.98</td>\n",
       "      <td>YES</td>\n",
       "      <td>5.480</td>\n",
       "      <td>11.1920</td>\n",
       "      <td>River</td>\n",
       "      <td>23</td>\n",
       "      <td>YES</td>\n",
       "      <td>0.049347</td>\n",
       "    </tr>\n",
       "    <tr>\n",
       "      <th>1</th>\n",
       "      <td>21.6</td>\n",
       "      <td>0.02731</td>\n",
       "      <td>37.07</td>\n",
       "      <td>0.469</td>\n",
       "      <td>6.421</td>\n",
       "      <td>78.9</td>\n",
       "      <td>4.99</td>\n",
       "      <td>4.70</td>\n",
       "      <td>5.12</td>\n",
       "      <td>5.06</td>\n",
       "      <td>22.2</td>\n",
       "      <td>9.14</td>\n",
       "      <td>NO</td>\n",
       "      <td>7.332</td>\n",
       "      <td>12.1728</td>\n",
       "      <td>Lake</td>\n",
       "      <td>42</td>\n",
       "      <td>YES</td>\n",
       "      <td>0.046146</td>\n",
       "    </tr>\n",
       "    <tr>\n",
       "      <th>2</th>\n",
       "      <td>34.7</td>\n",
       "      <td>0.02729</td>\n",
       "      <td>37.07</td>\n",
       "      <td>0.469</td>\n",
       "      <td>7.185</td>\n",
       "      <td>61.1</td>\n",
       "      <td>5.03</td>\n",
       "      <td>4.86</td>\n",
       "      <td>5.01</td>\n",
       "      <td>4.97</td>\n",
       "      <td>22.2</td>\n",
       "      <td>4.03</td>\n",
       "      <td>NO</td>\n",
       "      <td>7.394</td>\n",
       "      <td>101.1200</td>\n",
       "      <td>None</td>\n",
       "      <td>38</td>\n",
       "      <td>YES</td>\n",
       "      <td>0.045764</td>\n",
       "    </tr>\n",
       "    <tr>\n",
       "      <th>3</th>\n",
       "      <td>33.4</td>\n",
       "      <td>0.03237</td>\n",
       "      <td>32.18</td>\n",
       "      <td>0.458</td>\n",
       "      <td>6.998</td>\n",
       "      <td>45.8</td>\n",
       "      <td>6.21</td>\n",
       "      <td>5.93</td>\n",
       "      <td>6.16</td>\n",
       "      <td>5.96</td>\n",
       "      <td>21.3</td>\n",
       "      <td>2.94</td>\n",
       "      <td>YES</td>\n",
       "      <td>9.268</td>\n",
       "      <td>11.2672</td>\n",
       "      <td>Lake</td>\n",
       "      <td>45</td>\n",
       "      <td>YES</td>\n",
       "      <td>0.047151</td>\n",
       "    </tr>\n",
       "    <tr>\n",
       "      <th>4</th>\n",
       "      <td>36.2</td>\n",
       "      <td>0.06905</td>\n",
       "      <td>32.18</td>\n",
       "      <td>0.458</td>\n",
       "      <td>7.147</td>\n",
       "      <td>54.2</td>\n",
       "      <td>6.16</td>\n",
       "      <td>5.86</td>\n",
       "      <td>6.37</td>\n",
       "      <td>5.86</td>\n",
       "      <td>21.3</td>\n",
       "      <td>5.33</td>\n",
       "      <td>NO</td>\n",
       "      <td>8.824</td>\n",
       "      <td>11.2896</td>\n",
       "      <td>Lake</td>\n",
       "      <td>55</td>\n",
       "      <td>YES</td>\n",
       "      <td>0.039474</td>\n",
       "    </tr>\n",
       "    <tr>\n",
       "      <th>...</th>\n",
       "      <td>...</td>\n",
       "      <td>...</td>\n",
       "      <td>...</td>\n",
       "      <td>...</td>\n",
       "      <td>...</td>\n",
       "      <td>...</td>\n",
       "      <td>...</td>\n",
       "      <td>...</td>\n",
       "      <td>...</td>\n",
       "      <td>...</td>\n",
       "      <td>...</td>\n",
       "      <td>...</td>\n",
       "      <td>...</td>\n",
       "      <td>...</td>\n",
       "      <td>...</td>\n",
       "      <td>...</td>\n",
       "      <td>...</td>\n",
       "      <td>...</td>\n",
       "      <td>...</td>\n",
       "    </tr>\n",
       "    <tr>\n",
       "      <th>501</th>\n",
       "      <td>22.4</td>\n",
       "      <td>0.06263</td>\n",
       "      <td>41.93</td>\n",
       "      <td>0.573</td>\n",
       "      <td>6.593</td>\n",
       "      <td>69.1</td>\n",
       "      <td>2.64</td>\n",
       "      <td>2.45</td>\n",
       "      <td>2.76</td>\n",
       "      <td>2.06</td>\n",
       "      <td>19.0</td>\n",
       "      <td>9.67</td>\n",
       "      <td>NO</td>\n",
       "      <td>9.348</td>\n",
       "      <td>12.1792</td>\n",
       "      <td>Lake and River</td>\n",
       "      <td>27</td>\n",
       "      <td>YES</td>\n",
       "      <td>0.056006</td>\n",
       "    </tr>\n",
       "    <tr>\n",
       "      <th>502</th>\n",
       "      <td>20.6</td>\n",
       "      <td>0.04527</td>\n",
       "      <td>41.93</td>\n",
       "      <td>0.573</td>\n",
       "      <td>6.120</td>\n",
       "      <td>76.7</td>\n",
       "      <td>2.44</td>\n",
       "      <td>2.11</td>\n",
       "      <td>2.46</td>\n",
       "      <td>2.14</td>\n",
       "      <td>19.0</td>\n",
       "      <td>9.08</td>\n",
       "      <td>YES</td>\n",
       "      <td>6.612</td>\n",
       "      <td>13.1648</td>\n",
       "      <td>Lake and River</td>\n",
       "      <td>20</td>\n",
       "      <td>YES</td>\n",
       "      <td>0.059903</td>\n",
       "    </tr>\n",
       "    <tr>\n",
       "      <th>503</th>\n",
       "      <td>23.9</td>\n",
       "      <td>0.06076</td>\n",
       "      <td>41.93</td>\n",
       "      <td>0.573</td>\n",
       "      <td>6.976</td>\n",
       "      <td>91.0</td>\n",
       "      <td>2.34</td>\n",
       "      <td>2.06</td>\n",
       "      <td>2.29</td>\n",
       "      <td>1.98</td>\n",
       "      <td>19.0</td>\n",
       "      <td>5.64</td>\n",
       "      <td>NO</td>\n",
       "      <td>5.478</td>\n",
       "      <td>12.1912</td>\n",
       "      <td>None</td>\n",
       "      <td>31</td>\n",
       "      <td>YES</td>\n",
       "      <td>0.057572</td>\n",
       "    </tr>\n",
       "    <tr>\n",
       "      <th>504</th>\n",
       "      <td>22.0</td>\n",
       "      <td>0.10959</td>\n",
       "      <td>41.93</td>\n",
       "      <td>0.573</td>\n",
       "      <td>6.794</td>\n",
       "      <td>89.3</td>\n",
       "      <td>2.54</td>\n",
       "      <td>2.31</td>\n",
       "      <td>2.40</td>\n",
       "      <td>2.31</td>\n",
       "      <td>19.0</td>\n",
       "      <td>6.48</td>\n",
       "      <td>YES</td>\n",
       "      <td>7.940</td>\n",
       "      <td>15.1760</td>\n",
       "      <td>None</td>\n",
       "      <td>47</td>\n",
       "      <td>YES</td>\n",
       "      <td>0.060694</td>\n",
       "    </tr>\n",
       "    <tr>\n",
       "      <th>505</th>\n",
       "      <td>19.0</td>\n",
       "      <td>0.04741</td>\n",
       "      <td>41.93</td>\n",
       "      <td>0.573</td>\n",
       "      <td>6.030</td>\n",
       "      <td>80.8</td>\n",
       "      <td>2.72</td>\n",
       "      <td>2.24</td>\n",
       "      <td>2.64</td>\n",
       "      <td>2.42</td>\n",
       "      <td>19.0</td>\n",
       "      <td>7.88</td>\n",
       "      <td>YES</td>\n",
       "      <td>10.280</td>\n",
       "      <td>10.1520</td>\n",
       "      <td>None</td>\n",
       "      <td>45</td>\n",
       "      <td>YES</td>\n",
       "      <td>0.060336</td>\n",
       "    </tr>\n",
       "  </tbody>\n",
       "</table>\n",
       "<p>506 rows × 19 columns</p>\n",
       "</div>"
      ],
      "text/plain": [
       "     price  crime_rate  resid_area  air_qual  room_num   age  dist1  dist2  \\\n",
       "0     24.0     0.00632       32.31     0.538     6.575  65.2   4.35   3.81   \n",
       "1     21.6     0.02731       37.07     0.469     6.421  78.9   4.99   4.70   \n",
       "2     34.7     0.02729       37.07     0.469     7.185  61.1   5.03   4.86   \n",
       "3     33.4     0.03237       32.18     0.458     6.998  45.8   6.21   5.93   \n",
       "4     36.2     0.06905       32.18     0.458     7.147  54.2   6.16   5.86   \n",
       "..     ...         ...         ...       ...       ...   ...    ...    ...   \n",
       "501   22.4     0.06263       41.93     0.573     6.593  69.1   2.64   2.45   \n",
       "502   20.6     0.04527       41.93     0.573     6.120  76.7   2.44   2.11   \n",
       "503   23.9     0.06076       41.93     0.573     6.976  91.0   2.34   2.06   \n",
       "504   22.0     0.10959       41.93     0.573     6.794  89.3   2.54   2.31   \n",
       "505   19.0     0.04741       41.93     0.573     6.030  80.8   2.72   2.24   \n",
       "\n",
       "     dist3  dist4  teachers  poor_prop airport  n_hos_beds  n_hot_rooms  \\\n",
       "0     4.18   4.01      24.7       4.98     YES       5.480      11.1920   \n",
       "1     5.12   5.06      22.2       9.14      NO       7.332      12.1728   \n",
       "2     5.01   4.97      22.2       4.03      NO       7.394     101.1200   \n",
       "3     6.16   5.96      21.3       2.94     YES       9.268      11.2672   \n",
       "4     6.37   5.86      21.3       5.33      NO       8.824      11.2896   \n",
       "..     ...    ...       ...        ...     ...         ...          ...   \n",
       "501   2.76   2.06      19.0       9.67      NO       9.348      12.1792   \n",
       "502   2.46   2.14      19.0       9.08     YES       6.612      13.1648   \n",
       "503   2.29   1.98      19.0       5.64      NO       5.478      12.1912   \n",
       "504   2.40   2.31      19.0       6.48     YES       7.940      15.1760   \n",
       "505   2.64   2.42      19.0       7.88     YES      10.280      10.1520   \n",
       "\n",
       "          waterbody  rainfall bus_ter     parks  \n",
       "0             River        23     YES  0.049347  \n",
       "1              Lake        42     YES  0.046146  \n",
       "2              None        38     YES  0.045764  \n",
       "3              Lake        45     YES  0.047151  \n",
       "4              Lake        55     YES  0.039474  \n",
       "..              ...       ...     ...       ...  \n",
       "501  Lake and River        27     YES  0.056006  \n",
       "502  Lake and River        20     YES  0.059903  \n",
       "503            None        31     YES  0.057572  \n",
       "504            None        47     YES  0.060694  \n",
       "505            None        45     YES  0.060336  \n",
       "\n",
       "[506 rows x 19 columns]"
      ]
     },
     "execution_count": 33,
     "metadata": {},
     "output_type": "execute_result"
    }
   ],
   "source": [
    "import numpy as np\n",
    "import pandas as pd\n",
    "from sklearn.model_selection import train_test_split\n",
    "from sklearn.linear_model import LinearRegression\n",
    "from sklearn.metrics import mean_squared_error, r2_score\n",
    "data = pd.read_csv('House_Price.csv')\n",
    "data"
   ]
  },
  {
   "cell_type": "code",
   "execution_count": 34,
   "id": "1a165812",
   "metadata": {},
   "outputs": [
    {
     "data": {
      "text/plain": [
       "LinearRegression()"
      ]
     },
     "execution_count": 34,
     "metadata": {},
     "output_type": "execute_result"
    }
   ],
   "source": [
    "X = data[['crime_rate', 'resid_area', 'air_qual','room_num','poor_prop','teachers']]\n",
    "y = data['price'] \n",
    "X_train, X_test, y_train, y_test = train_test_split(X, y, test_size=0.2, random_state=42)\n",
    "model = LinearRegression()\n",
    "model.fit(X_train, y_train)"
   ]
  },
  {
   "cell_type": "code",
   "execution_count": 35,
   "id": "3d904c8d",
   "metadata": {},
   "outputs": [
    {
     "name": "stdout",
     "output_type": "stream",
     "text": [
      "Coefficients: [-0.09106696  0.09410711 -3.47254938  5.12583781 -0.53566952  0.83070428]\n",
      "Intercept: -22.506438097111744\n",
      "Mean squared error (MSE): 28.52\n",
      "Coefficient of determination (R^2): 0.61\n"
     ]
    }
   ],
   "source": [
    "y_pred = model.predict(X_test)\n",
    "print('Coefficients:', model.coef_)\n",
    "print('Intercept:', model.intercept_)\n",
    "print('Mean squared error (MSE): %.2f' % mean_squared_error(y_test, y_pred))\n",
    "print('Coefficient of determination (R^2): %.2f' % r2_score(y_test, y_pred))"
   ]
  },
  {
   "cell_type": "markdown",
   "id": "02295a8d",
   "metadata": {},
   "source": [
    "# LOGISTIC REGRESSION"
   ]
  },
  {
   "cell_type": "code",
   "execution_count": 36,
   "id": "916bf7d4",
   "metadata": {},
   "outputs": [
    {
     "data": {
      "text/plain": [
       "{'data': array([[1.799e+01, 1.038e+01, 1.228e+02, ..., 2.654e-01, 4.601e-01,\n",
       "         1.189e-01],\n",
       "        [2.057e+01, 1.777e+01, 1.329e+02, ..., 1.860e-01, 2.750e-01,\n",
       "         8.902e-02],\n",
       "        [1.969e+01, 2.125e+01, 1.300e+02, ..., 2.430e-01, 3.613e-01,\n",
       "         8.758e-02],\n",
       "        ...,\n",
       "        [1.660e+01, 2.808e+01, 1.083e+02, ..., 1.418e-01, 2.218e-01,\n",
       "         7.820e-02],\n",
       "        [2.060e+01, 2.933e+01, 1.401e+02, ..., 2.650e-01, 4.087e-01,\n",
       "         1.240e-01],\n",
       "        [7.760e+00, 2.454e+01, 4.792e+01, ..., 0.000e+00, 2.871e-01,\n",
       "         7.039e-02]]),\n",
       " 'target': array([0, 0, 0, 0, 0, 0, 0, 0, 0, 0, 0, 0, 0, 0, 0, 0, 0, 0, 0, 1, 1, 1,\n",
       "        0, 0, 0, 0, 0, 0, 0, 0, 0, 0, 0, 0, 0, 0, 0, 1, 0, 0, 0, 0, 0, 0,\n",
       "        0, 0, 1, 0, 1, 1, 1, 1, 1, 0, 0, 1, 0, 0, 1, 1, 1, 1, 0, 1, 0, 0,\n",
       "        1, 1, 1, 1, 0, 1, 0, 0, 1, 0, 1, 0, 0, 1, 1, 1, 0, 0, 1, 0, 0, 0,\n",
       "        1, 1, 1, 0, 1, 1, 0, 0, 1, 1, 1, 0, 0, 1, 1, 1, 1, 0, 1, 1, 0, 1,\n",
       "        1, 1, 1, 1, 1, 1, 1, 0, 0, 0, 1, 0, 0, 1, 1, 1, 0, 0, 1, 0, 1, 0,\n",
       "        0, 1, 0, 0, 1, 1, 0, 1, 1, 0, 1, 1, 1, 1, 0, 1, 1, 1, 1, 1, 1, 1,\n",
       "        1, 1, 0, 1, 1, 1, 1, 0, 0, 1, 0, 1, 1, 0, 0, 1, 1, 0, 0, 1, 1, 1,\n",
       "        1, 0, 1, 1, 0, 0, 0, 1, 0, 1, 0, 1, 1, 1, 0, 1, 1, 0, 0, 1, 0, 0,\n",
       "        0, 0, 1, 0, 0, 0, 1, 0, 1, 0, 1, 1, 0, 1, 0, 0, 0, 0, 1, 1, 0, 0,\n",
       "        1, 1, 1, 0, 1, 1, 1, 1, 1, 0, 0, 1, 1, 0, 1, 1, 0, 0, 1, 0, 1, 1,\n",
       "        1, 1, 0, 1, 1, 1, 1, 1, 0, 1, 0, 0, 0, 0, 0, 0, 0, 0, 0, 0, 0, 0,\n",
       "        0, 0, 1, 1, 1, 1, 1, 1, 0, 1, 0, 1, 1, 0, 1, 1, 0, 1, 0, 0, 1, 1,\n",
       "        1, 1, 1, 1, 1, 1, 1, 1, 1, 1, 1, 0, 1, 1, 0, 1, 0, 1, 1, 1, 1, 1,\n",
       "        1, 1, 1, 1, 1, 1, 1, 1, 1, 0, 1, 1, 1, 0, 1, 0, 1, 1, 1, 1, 0, 0,\n",
       "        0, 1, 1, 1, 1, 0, 1, 0, 1, 0, 1, 1, 1, 0, 1, 1, 1, 1, 1, 1, 1, 0,\n",
       "        0, 0, 1, 1, 1, 1, 1, 1, 1, 1, 1, 1, 1, 0, 0, 1, 0, 0, 0, 1, 0, 0,\n",
       "        1, 1, 1, 1, 1, 0, 1, 1, 1, 1, 1, 0, 1, 1, 1, 0, 1, 1, 0, 0, 1, 1,\n",
       "        1, 1, 1, 1, 0, 1, 1, 1, 1, 1, 1, 1, 0, 1, 1, 1, 1, 1, 0, 1, 1, 0,\n",
       "        1, 1, 1, 1, 1, 1, 1, 1, 1, 1, 1, 1, 0, 1, 0, 0, 1, 0, 1, 1, 1, 1,\n",
       "        1, 0, 1, 1, 0, 1, 0, 1, 1, 0, 1, 0, 1, 1, 1, 1, 1, 1, 1, 1, 0, 0,\n",
       "        1, 1, 1, 1, 1, 1, 0, 1, 1, 1, 1, 1, 1, 1, 1, 1, 1, 0, 1, 1, 1, 1,\n",
       "        1, 1, 1, 0, 1, 0, 1, 1, 0, 1, 1, 1, 1, 1, 0, 0, 1, 0, 1, 0, 1, 1,\n",
       "        1, 1, 1, 0, 1, 1, 0, 1, 0, 1, 0, 0, 1, 1, 1, 0, 1, 1, 1, 1, 1, 1,\n",
       "        1, 1, 1, 1, 1, 0, 1, 0, 0, 1, 1, 1, 1, 1, 1, 1, 1, 1, 1, 1, 1, 1,\n",
       "        1, 1, 1, 1, 1, 1, 1, 1, 1, 1, 1, 1, 0, 0, 0, 0, 0, 0, 1]),\n",
       " 'frame': None,\n",
       " 'target_names': array(['malignant', 'benign'], dtype='<U9'),\n",
       " 'DESCR': '.. _breast_cancer_dataset:\\n\\nBreast cancer wisconsin (diagnostic) dataset\\n--------------------------------------------\\n\\n**Data Set Characteristics:**\\n\\n    :Number of Instances: 569\\n\\n    :Number of Attributes: 30 numeric, predictive attributes and the class\\n\\n    :Attribute Information:\\n        - radius (mean of distances from center to points on the perimeter)\\n        - texture (standard deviation of gray-scale values)\\n        - perimeter\\n        - area\\n        - smoothness (local variation in radius lengths)\\n        - compactness (perimeter^2 / area - 1.0)\\n        - concavity (severity of concave portions of the contour)\\n        - concave points (number of concave portions of the contour)\\n        - symmetry\\n        - fractal dimension (\"coastline approximation\" - 1)\\n\\n        The mean, standard error, and \"worst\" or largest (mean of the three\\n        worst/largest values) of these features were computed for each image,\\n        resulting in 30 features.  For instance, field 0 is Mean Radius, field\\n        10 is Radius SE, field 20 is Worst Radius.\\n\\n        - class:\\n                - WDBC-Malignant\\n                - WDBC-Benign\\n\\n    :Summary Statistics:\\n\\n    ===================================== ====== ======\\n                                           Min    Max\\n    ===================================== ====== ======\\n    radius (mean):                        6.981  28.11\\n    texture (mean):                       9.71   39.28\\n    perimeter (mean):                     43.79  188.5\\n    area (mean):                          143.5  2501.0\\n    smoothness (mean):                    0.053  0.163\\n    compactness (mean):                   0.019  0.345\\n    concavity (mean):                     0.0    0.427\\n    concave points (mean):                0.0    0.201\\n    symmetry (mean):                      0.106  0.304\\n    fractal dimension (mean):             0.05   0.097\\n    radius (standard error):              0.112  2.873\\n    texture (standard error):             0.36   4.885\\n    perimeter (standard error):           0.757  21.98\\n    area (standard error):                6.802  542.2\\n    smoothness (standard error):          0.002  0.031\\n    compactness (standard error):         0.002  0.135\\n    concavity (standard error):           0.0    0.396\\n    concave points (standard error):      0.0    0.053\\n    symmetry (standard error):            0.008  0.079\\n    fractal dimension (standard error):   0.001  0.03\\n    radius (worst):                       7.93   36.04\\n    texture (worst):                      12.02  49.54\\n    perimeter (worst):                    50.41  251.2\\n    area (worst):                         185.2  4254.0\\n    smoothness (worst):                   0.071  0.223\\n    compactness (worst):                  0.027  1.058\\n    concavity (worst):                    0.0    1.252\\n    concave points (worst):               0.0    0.291\\n    symmetry (worst):                     0.156  0.664\\n    fractal dimension (worst):            0.055  0.208\\n    ===================================== ====== ======\\n\\n    :Missing Attribute Values: None\\n\\n    :Class Distribution: 212 - Malignant, 357 - Benign\\n\\n    :Creator:  Dr. William H. Wolberg, W. Nick Street, Olvi L. Mangasarian\\n\\n    :Donor: Nick Street\\n\\n    :Date: November, 1995\\n\\nThis is a copy of UCI ML Breast Cancer Wisconsin (Diagnostic) datasets.\\nhttps://goo.gl/U2Uwz2\\n\\nFeatures are computed from a digitized image of a fine needle\\naspirate (FNA) of a breast mass.  They describe\\ncharacteristics of the cell nuclei present in the image.\\n\\nSeparating plane described above was obtained using\\nMultisurface Method-Tree (MSM-T) [K. P. Bennett, \"Decision Tree\\nConstruction Via Linear Programming.\" Proceedings of the 4th\\nMidwest Artificial Intelligence and Cognitive Science Society,\\npp. 97-101, 1992], a classification method which uses linear\\nprogramming to construct a decision tree.  Relevant features\\nwere selected using an exhaustive search in the space of 1-4\\nfeatures and 1-3 separating planes.\\n\\nThe actual linear program used to obtain the separating plane\\nin the 3-dimensional space is that described in:\\n[K. P. Bennett and O. L. Mangasarian: \"Robust Linear\\nProgramming Discrimination of Two Linearly Inseparable Sets\",\\nOptimization Methods and Software 1, 1992, 23-34].\\n\\nThis database is also available through the UW CS ftp server:\\n\\nftp ftp.cs.wisc.edu\\ncd math-prog/cpo-dataset/machine-learn/WDBC/\\n\\n.. topic:: References\\n\\n   - W.N. Street, W.H. Wolberg and O.L. Mangasarian. Nuclear feature extraction \\n     for breast tumor diagnosis. IS&T/SPIE 1993 International Symposium on \\n     Electronic Imaging: Science and Technology, volume 1905, pages 861-870,\\n     San Jose, CA, 1993.\\n   - O.L. Mangasarian, W.N. Street and W.H. Wolberg. Breast cancer diagnosis and \\n     prognosis via linear programming. Operations Research, 43(4), pages 570-577, \\n     July-August 1995.\\n   - W.H. Wolberg, W.N. Street, and O.L. Mangasarian. Machine learning techniques\\n     to diagnose breast cancer from fine-needle aspirates. Cancer Letters 77 (1994) \\n     163-171.',\n",
       " 'feature_names': array(['mean radius', 'mean texture', 'mean perimeter', 'mean area',\n",
       "        'mean smoothness', 'mean compactness', 'mean concavity',\n",
       "        'mean concave points', 'mean symmetry', 'mean fractal dimension',\n",
       "        'radius error', 'texture error', 'perimeter error', 'area error',\n",
       "        'smoothness error', 'compactness error', 'concavity error',\n",
       "        'concave points error', 'symmetry error',\n",
       "        'fractal dimension error', 'worst radius', 'worst texture',\n",
       "        'worst perimeter', 'worst area', 'worst smoothness',\n",
       "        'worst compactness', 'worst concavity', 'worst concave points',\n",
       "        'worst symmetry', 'worst fractal dimension'], dtype='<U23'),\n",
       " 'filename': 'breast_cancer.csv',\n",
       " 'data_module': 'sklearn.datasets.data'}"
      ]
     },
     "execution_count": 36,
     "metadata": {},
     "output_type": "execute_result"
    }
   ],
   "source": [
    "from sklearn.datasets import load_breast_cancer\n",
    "from sklearn.linear_model import LogisticRegression\n",
    "from sklearn.pipeline import Pipeline\n",
    "from sklearn.metrics import accuracy_score, classification_report, confusion_matrix\n",
    "\n",
    "data = load_breast_cancer()\n",
    "data"
   ]
  },
  {
   "cell_type": "code",
   "execution_count": 37,
   "id": "a0a43838",
   "metadata": {},
   "outputs": [
    {
     "name": "stdout",
     "output_type": "stream",
     "text": [
      "Accuracy: 0.9736842105263158\n"
     ]
    }
   ],
   "source": [
    "X = data.data\n",
    "y = data.target\n",
    "X_train, X_test, y_train, y_test = train_test_split(X, y, test_size=0.2, random_state=42)\n",
    "pipeline = Pipeline([\n",
    "    ('scaler', StandardScaler()),  \n",
    "    ('logistic', LogisticRegression()) \n",
    "])\n",
    "pipeline.fit(X_train, y_train)\n",
    "y_pred = pipeline.predict(X_test)\n",
    "\n",
    "accuracy = accuracy_score(y_test, y_pred)\n",
    "print('Accuracy:', accuracy)"
   ]
  },
  {
   "cell_type": "markdown",
   "id": "fa1f55e7",
   "metadata": {},
   "source": [
    "#  SVC"
   ]
  },
  {
   "cell_type": "code",
   "execution_count": 38,
   "id": "271dc333",
   "metadata": {},
   "outputs": [
    {
     "name": "stdout",
     "output_type": "stream",
     "text": [
      "[[1.799e+01 1.038e+01 1.228e+02 ... 2.654e-01 4.601e-01 1.189e-01]\n",
      " [2.057e+01 1.777e+01 1.329e+02 ... 1.860e-01 2.750e-01 8.902e-02]\n",
      " [1.969e+01 2.125e+01 1.300e+02 ... 2.430e-01 3.613e-01 8.758e-02]\n",
      " ...\n",
      " [1.660e+01 2.808e+01 1.083e+02 ... 1.418e-01 2.218e-01 7.820e-02]\n",
      " [2.060e+01 2.933e+01 1.401e+02 ... 2.650e-01 4.087e-01 1.240e-01]\n",
      " [7.760e+00 2.454e+01 4.792e+01 ... 0.000e+00 2.871e-01 7.039e-02]] [0 0 0 0 0 0 0 0 0 0 0 0 0 0 0 0 0 0 0 1 1 1 0 0 0 0 0 0 0 0 0 0 0 0 0 0 0\n",
      " 1 0 0 0 0 0 0 0 0 1 0 1 1 1 1 1 0 0 1 0 0 1 1 1 1 0 1 0 0 1 1 1 1 0 1 0 0\n",
      " 1 0 1 0 0 1 1 1 0 0 1 0 0 0 1 1 1 0 1 1 0 0 1 1 1 0 0 1 1 1 1 0 1 1 0 1 1\n",
      " 1 1 1 1 1 1 0 0 0 1 0 0 1 1 1 0 0 1 0 1 0 0 1 0 0 1 1 0 1 1 0 1 1 1 1 0 1\n",
      " 1 1 1 1 1 1 1 1 0 1 1 1 1 0 0 1 0 1 1 0 0 1 1 0 0 1 1 1 1 0 1 1 0 0 0 1 0\n",
      " 1 0 1 1 1 0 1 1 0 0 1 0 0 0 0 1 0 0 0 1 0 1 0 1 1 0 1 0 0 0 0 1 1 0 0 1 1\n",
      " 1 0 1 1 1 1 1 0 0 1 1 0 1 1 0 0 1 0 1 1 1 1 0 1 1 1 1 1 0 1 0 0 0 0 0 0 0\n",
      " 0 0 0 0 0 0 0 1 1 1 1 1 1 0 1 0 1 1 0 1 1 0 1 0 0 1 1 1 1 1 1 1 1 1 1 1 1\n",
      " 1 0 1 1 0 1 0 1 1 1 1 1 1 1 1 1 1 1 1 1 1 0 1 1 1 0 1 0 1 1 1 1 0 0 0 1 1\n",
      " 1 1 0 1 0 1 0 1 1 1 0 1 1 1 1 1 1 1 0 0 0 1 1 1 1 1 1 1 1 1 1 1 0 0 1 0 0\n",
      " 0 1 0 0 1 1 1 1 1 0 1 1 1 1 1 0 1 1 1 0 1 1 0 0 1 1 1 1 1 1 0 1 1 1 1 1 1\n",
      " 1 0 1 1 1 1 1 0 1 1 0 1 1 1 1 1 1 1 1 1 1 1 1 0 1 0 0 1 0 1 1 1 1 1 0 1 1\n",
      " 0 1 0 1 1 0 1 0 1 1 1 1 1 1 1 1 0 0 1 1 1 1 1 1 0 1 1 1 1 1 1 1 1 1 1 0 1\n",
      " 1 1 1 1 1 1 0 1 0 1 1 0 1 1 1 1 1 0 0 1 0 1 0 1 1 1 1 1 0 1 1 0 1 0 1 0 0\n",
      " 1 1 1 0 1 1 1 1 1 1 1 1 1 1 1 0 1 0 0 1 1 1 1 1 1 1 1 1 1 1 1 1 1 1 1 1 1\n",
      " 1 1 1 1 1 1 1 0 0 0 0 0 0 1]\n"
     ]
    }
   ],
   "source": [
    "from sklearn.datasets import load_breast_cancer\n",
    "from sklearn.model_selection import train_test_split\n",
    "from sklearn.svm import SVC\n",
    "from sklearn.metrics import accuracy_score\n",
    "data = load_breast_cancer()\n",
    "X = data.data\n",
    "y = data.target\n",
    "print(X,y)"
   ]
  },
  {
   "cell_type": "code",
   "execution_count": 39,
   "id": "6b6c044b",
   "metadata": {},
   "outputs": [
    {
     "name": "stdout",
     "output_type": "stream",
     "text": [
      "Accuracy: 0.9649122807017544\n"
     ]
    }
   ],
   "source": [
    "X_train, X_test, y_train, y_test = train_test_split(X, y, test_size=0.3, random_state=42)\n",
    "svc = SVC(kernel='linear')\n",
    "svc.fit(X_train, y_train)\n",
    "y_pred = svc.predict(X_test)\n",
    "accuracy = accuracy_score(y_test, y_pred)\n",
    "print(\"Accuracy:\", accuracy)"
   ]
  },
  {
   "cell_type": "markdown",
   "id": "16be0ad3",
   "metadata": {},
   "source": [
    "# K- Means cluster"
   ]
  },
  {
   "cell_type": "code",
   "execution_count": 40,
   "id": "83025ae8",
   "metadata": {},
   "outputs": [
    {
     "data": {
      "text/plain": [
       "array([[ 2.40615694e+00,  4.87047502e+00],\n",
       "       [ 2.58076718e+00,  8.28599179e-01],\n",
       "       [ 1.06269622e+00,  5.17635143e+00],\n",
       "       [ 2.54821895e+00,  9.00839248e-01],\n",
       "       [ 1.39016098e+00,  5.08489507e+00],\n",
       "       [ 1.21569789e+00,  2.64023167e+00],\n",
       "       [ 2.45509737e+00,  6.21231788e-01],\n",
       "       [ 1.54592256e+00,  4.35631807e+00],\n",
       "       [ 2.17484764e+00,  8.67301535e-01],\n",
       "       [ 2.47153141e+00,  8.01919597e-01],\n",
       "       [ 1.74475610e+00,  3.10365744e-01],\n",
       "       [ 1.21833533e-01,  4.00779540e+00],\n",
       "       [ 2.07844585e+00, -9.63654015e-02],\n",
       "       [ 1.43289271e+00,  4.37679234e+00],\n",
       "       [ 1.39119333e+00,  4.72063681e+00],\n",
       "       [ 6.33515378e-01,  1.41609504e+00],\n",
       "       [ 1.65991049e+00,  3.56289184e+00],\n",
       "       [ 1.34471770e+00,  4.85711133e+00],\n",
       "       [ 6.82095497e-01,  1.04855431e+00],\n",
       "       [ 5.40911651e-01,  3.47376895e+00],\n",
       "       [ 2.25861000e+00,  2.11028980e+00],\n",
       "       [ 1.87271752e+00,  4.18069237e+00],\n",
       "       [ 6.18481655e-01,  4.27224695e+00],\n",
       "       [ 7.93137001e-03,  4.17614316e+00],\n",
       "       [ 1.25594053e+00, -2.83511154e-01],\n",
       "       [ 2.22353254e+00,  3.01789493e-01],\n",
       "       [ 7.43873988e-01,  4.12240568e+00],\n",
       "       [ 1.93112532e+00,  1.42577101e+00],\n",
       "       [ 1.79071394e+00,  7.29450363e-01],\n",
       "       [ 1.92353968e-01,  5.29866574e+00],\n",
       "       [ 2.28490698e+00,  8.77118292e-01],\n",
       "       [ 1.68353782e+00,  4.19583243e+00],\n",
       "       [ 5.90099037e-01,  2.96974544e+00],\n",
       "       [ 1.03490506e+00,  4.65355954e+00],\n",
       "       [ 1.63244736e+00,  1.46362009e+00],\n",
       "       [ 2.06044426e+00,  1.21386619e+00],\n",
       "       [ 1.24651227e+00,  4.40719627e-01],\n",
       "       [ 2.93521475e+00,  1.40919482e+00],\n",
       "       [ 1.37964693e+00,  4.54826443e+00],\n",
       "       [ 2.33185545e+00,  4.27843304e+00],\n",
       "       [ 2.39564169e+00,  7.64058600e-01],\n",
       "       [ 9.09945684e-01,  4.91589095e+00],\n",
       "       [ 1.65225163e+00,  3.65582842e+00],\n",
       "       [ 2.87398663e+00,  4.83994149e-01],\n",
       "       [ 3.49118059e-01,  5.03047450e+00],\n",
       "       [ 5.17918699e-02,  4.34174452e+00],\n",
       "       [ 2.04585825e+00,  9.94220561e-01],\n",
       "       [ 1.91005562e+00,  1.80862036e+00],\n",
       "       [ 1.83645139e+00,  9.91685973e-01],\n",
       "       [ 2.26812214e+00,  1.26779559e+00],\n",
       "       [ 7.98505679e-01,  9.71896808e-01],\n",
       "       [ 2.21997734e+00,  3.63114610e-01],\n",
       "       [ 1.82448027e+00,  6.31362004e-01],\n",
       "       [ 1.47896489e+00,  4.21793242e-01],\n",
       "       [ 2.51526543e+00,  1.11143935e+00],\n",
       "       [-1.84892963e-03,  4.58145668e+00],\n",
       "       [ 4.59534668e-01,  5.44982630e+00],\n",
       "       [ 1.07568681e+00, -4.29969746e-02],\n",
       "       [ 2.70218590e+00, -6.37847140e-01],\n",
       "       [ 1.00372519e+00,  4.19147702e+00],\n",
       "       [ 2.35448169e+00,  1.52644695e+00],\n",
       "       [ 1.77324779e+00,  7.67624778e-01],\n",
       "       [ 5.14320434e-01,  4.62733684e+00],\n",
       "       [ 2.61731300e+00,  1.74506028e+00],\n",
       "       [ 1.94087543e+00,  6.60753952e-01],\n",
       "       [ 2.65070401e-02,  4.67001495e+00],\n",
       "       [ 2.00555933e-01,  4.46401785e+00],\n",
       "       [ 1.37917204e+00,  4.59257008e-01],\n",
       "       [ 5.71670482e-01,  4.32288566e+00],\n",
       "       [ 6.17880437e-01,  4.16103429e+00],\n",
       "       [ 1.93352942e+00,  8.31733992e-01],\n",
       "       [ 2.02784515e+00,  1.02996825e+00],\n",
       "       [ 2.22583532e+00,  1.94326493e+00],\n",
       "       [ 9.61674404e-01,  3.86096878e+00],\n",
       "       [ 1.25471244e+00,  8.96331565e-02],\n",
       "       [ 7.34363910e-01,  5.03725437e+00],\n",
       "       [ 2.27421165e+00,  5.10570410e+00],\n",
       "       [ 2.33314572e+00,  1.06512112e+00],\n",
       "       [ 1.66766902e+00,  4.95155848e+00],\n",
       "       [ 9.59360742e-01,  4.56078645e+00],\n",
       "       [ 2.73242396e+00,  1.19526423e+00],\n",
       "       [ 1.68908795e+00,  4.49395289e+00],\n",
       "       [ 2.62109517e+00, -7.46142640e-01],\n",
       "       [ 4.28576743e-01,  4.97399710e+00],\n",
       "       [ 3.13640075e-01,  4.33508638e+00],\n",
       "       [ 1.07627418e+00,  4.68480619e+00],\n",
       "       [ 2.18335555e+00,  1.72519468e-01],\n",
       "       [ 9.94144451e-01,  1.11095274e+00],\n",
       "       [ 1.86725632e-01,  4.02683656e+00],\n",
       "       [ 3.55724373e-01,  4.71274404e+00],\n",
       "       [ 1.92354290e+00,  2.47241688e-01],\n",
       "       [ 2.59242369e+00,  1.72264210e+00],\n",
       "       [ 1.84320847e+00, -7.22208533e-02],\n",
       "       [ 1.24258802e+00,  4.50399192e+00],\n",
       "       [ 1.97663511e+00,  1.57751159e+00],\n",
       "       [ 2.10616050e+00,  3.49513189e+00],\n",
       "       [ 2.40919541e+00,  6.79348374e-01],\n",
       "       [ 2.53560640e+00,  9.44619765e-01],\n",
       "       [ 7.02950576e-01,  4.31427482e+00],\n",
       "       [ 8.84185061e-01,  5.01728622e-01],\n",
       "       [ 1.66013574e+00,  5.89123280e-01],\n",
       "       [ 1.19008992e+00,  4.72773123e+00],\n",
       "       [ 1.27251514e+00,  4.23412496e+00],\n",
       "       [ 7.54760976e-01,  4.16015982e+00],\n",
       "       [ 8.15468056e-01,  4.78526116e+00],\n",
       "       [ 8.45423545e-01,  5.73990880e-01],\n",
       "       [ 1.10123507e+00,  4.88977075e+00],\n",
       "       [ 1.36085437e+00,  7.10288309e-01],\n",
       "       [ 9.05371651e-01,  3.89568041e+00],\n",
       "       [ 1.49036845e+00,  3.91317197e+00],\n",
       "       [ 1.37138605e+00,  1.36863817e+00],\n",
       "       [ 1.43934441e+00,  4.79788982e+00],\n",
       "       [ 9.82570091e-01,  5.37530962e+00],\n",
       "       [ 1.92170411e+00,  3.49816129e-01],\n",
       "       [ 4.88251523e-01,  3.42393273e+00],\n",
       "       [ 1.35140895e+00,  3.34255273e+00],\n",
       "       [ 2.13003529e+00,  5.19209620e+00],\n",
       "       [ 1.28745402e+00,  5.46404937e-01],\n",
       "       [ 5.61040170e-01,  5.22561356e+00],\n",
       "       [ 1.61784073e+00,  1.01559810e+00],\n",
       "       [ 2.56024628e+00,  7.47988512e-01],\n",
       "       [ 1.96066731e+00,  2.25169776e+00],\n",
       "       [ 1.44806686e+00,  4.02393587e+00],\n",
       "       [ 1.87296081e+00,  3.06179631e+00],\n",
       "       [ 1.76747403e+00,  1.26987864e+00],\n",
       "       [ 4.02703078e-01,  4.09619826e+00],\n",
       "       [ 1.81983412e+00, -9.30022173e-01],\n",
       "       [ 1.03640403e+00,  1.13003195e+00],\n",
       "       [ 2.27776252e+00,  9.82900743e-01],\n",
       "       [ 2.57002188e+00,  1.58232478e+00],\n",
       "       [ 1.42249044e+00,  1.38981236e+00],\n",
       "       [ 7.63873732e-01,  3.47881655e+00],\n",
       "       [ 2.20053830e+00,  3.64431506e-01],\n",
       "       [ 1.47260478e+00,  1.08655398e+00],\n",
       "       [ 1.97504659e+00,  1.54430994e+00],\n",
       "       [ 1.92509778e+00,  1.16489961e+00],\n",
       "       [ 5.95676822e-01,  4.08614263e+00],\n",
       "       [ 2.79018986e+00,  9.36577324e-01],\n",
       "       [ 1.65923373e+00,  1.00315503e+00],\n",
       "       [ 1.64256495e+00,  1.69217218e-01],\n",
       "       [ 7.89338559e-01,  4.33748653e+00],\n",
       "       [ 1.57189162e+00,  2.26676505e-01],\n",
       "       [ 2.77180174e-01,  4.84428322e+00],\n",
       "       [ 2.50358052e+00,  1.84296687e-01],\n",
       "       [ 2.54397941e+00,  9.33019013e-01],\n",
       "       [ 6.70478769e-01,  4.04094275e+00],\n",
       "       [ 1.34777276e+00,  1.67852050e+00],\n",
       "       [ 1.81813013e+00,  2.02011350e-01],\n",
       "       [ 1.59678117e+00,  3.49887757e-02],\n",
       "       [ 4.38990142e-01,  4.53592883e+00],\n",
       "       [ 7.11505086e-01,  1.13856309e+00],\n",
       "       [-4.74920358e-02,  5.47425256e+00],\n",
       "       [ 7.90862297e-01,  3.29818504e+00],\n",
       "       [ 1.88986520e+00,  4.71826880e-01],\n",
       "       [ 2.07747095e+00,  1.35840510e+00],\n",
       "       [ 3.04414848e+00,  9.96200313e-01],\n",
       "       [-1.85497805e-01,  4.41705449e+00],\n",
       "       [ 3.33818506e-01,  4.93645836e+00],\n",
       "       [ 1.46396108e+00,  1.45626555e-02],\n",
       "       [ 3.47138300e-01,  3.45177657e+00],\n",
       "       [ 7.67522789e-01,  4.39759671e+00],\n",
       "       [-2.42140602e-01,  5.54248304e+00],\n",
       "       [ 2.09680545e+00,  4.84741412e+00],\n",
       "       [ 1.84679713e+00,  5.48902574e-01],\n",
       "       [ 1.05241733e+00,  4.54498095e+00],\n",
       "       [ 1.52878537e+00,  4.49502392e+00],\n",
       "       [ 5.94762432e-01,  4.70964730e+00],\n",
       "       [ 5.72793810e-01,  4.08805543e+00],\n",
       "       [ 6.36763231e-01,  9.09864169e-01],\n",
       "       [ 9.66057830e-01,  4.53127837e+00],\n",
       "       [ 2.33812285e+00,  3.43116792e+00],\n",
       "       [ 2.00370906e+00,  1.01423942e+00],\n",
       "       [ 1.89462740e+00,  2.20856861e-01],\n",
       "       [ 1.14807629e+00,  4.66909363e+00],\n",
       "       [ 2.82560619e-01,  4.77250619e+00],\n",
       "       [ 1.01618041e+00,  4.48527047e+00],\n",
       "       [ 2.87788887e-01,  4.04109530e+00],\n",
       "       [ 1.25566754e+00,  3.38204112e+00],\n",
       "       [ 1.12500991e+00,  1.14805495e+00],\n",
       "       [ 1.77516019e+00,  4.75199921e-02],\n",
       "       [ 1.32222457e+00,  4.17880807e+00],\n",
       "       [ 9.14338767e-01,  4.55014643e+00],\n",
       "       [ 1.54632313e+00,  4.21297300e+00],\n",
       "       [ 1.06923853e+00,  4.53068484e+00],\n",
       "       [ 1.48864643e+00,  1.04052555e+00],\n",
       "       [ 3.26202153e+00,  8.70906404e-01],\n",
       "       [ 1.71444449e+00,  5.02521524e+00],\n",
       "       [ 2.57664561e+00,  1.06378680e+00],\n",
       "       [ 6.69786996e-01,  3.59540802e+00],\n",
       "       [ 1.20212540e+00,  3.64414685e+00],\n",
       "       [ 7.01928984e-01,  2.84159554e-01],\n",
       "       [ 2.01829168e+00,  8.33280494e-01],\n",
       "       [ 1.49717362e+00,  7.90510205e-01],\n",
       "       [ 5.29417185e-01,  3.80792420e+00],\n",
       "       [ 1.64486098e+00,  1.89339414e+00],\n",
       "       [ 1.72268175e+00,  6.15281065e-01],\n",
       "       [ 1.54462126e+00,  4.21078127e+00],\n",
       "       [ 1.94423532e+00,  4.13074567e-01],\n",
       "       [ 5.93807863e-01,  4.06542424e+00],\n",
       "       [ 2.96726444e+00,  1.92941724e+00],\n",
       "       [ 1.41372442e+00,  4.38117707e+00],\n",
       "       [ 2.32753667e+00, -2.00180587e-01],\n",
       "       [ 1.82433964e+00,  9.54274614e-01],\n",
       "       [ 2.61297059e+00,  1.24699841e+00],\n",
       "       [ 1.21387411e+00,  3.64795042e+00],\n",
       "       [ 1.64845205e+00,  1.67637113e+00],\n",
       "       [ 5.59529363e-01,  4.21400660e+00],\n",
       "       [ 2.26633559e+00,  1.12520498e+00],\n",
       "       [ 4.88382309e-01,  3.26801777e+00],\n",
       "       [ 4.43598630e-01,  3.11530945e+00],\n",
       "       [ 1.75357750e+00,  2.34513587e+00],\n",
       "       [ 2.40238042e+00,  1.10745633e+00],\n",
       "       [ 1.00173317e+00,  1.16822434e+00],\n",
       "       [ 7.36600661e-01,  4.52582086e+00],\n",
       "       [ 6.50553193e-01,  4.55341736e+00],\n",
       "       [ 1.08272576e+00,  4.06271877e+00],\n",
       "       [ 2.84674965e+00,  3.68212369e-01],\n",
       "       [ 1.14422484e+00,  4.24489709e+00],\n",
       "       [ 1.63606584e+00,  4.69694557e+00],\n",
       "       [ 2.51921931e+00,  1.87335276e-01],\n",
       "       [ 1.06144198e+00,  4.11219028e+00],\n",
       "       [ 1.69607516e+00,  2.28125468e-01],\n",
       "       [ 1.89593761e+00,  5.18540259e+00],\n",
       "       [ 1.51000957e+00,  6.43073087e-01],\n",
       "       [ 2.72396035e-01,  5.46996004e+00],\n",
       "       [ 1.49493180e+00,  3.85848832e+00],\n",
       "       [ 2.96326437e+00,  1.22954290e+00],\n",
       "       [ 2.13979079e-01,  4.88542535e+00],\n",
       "       [ 2.62954524e-01,  3.99969751e+00],\n",
       "       [ 9.49425791e-01,  6.10879258e-01],\n",
       "       [ 1.21767506e+00,  3.89290127e+00],\n",
       "       [ 1.23202532e+00,  4.70993215e+00],\n",
       "       [ 1.58569003e+00,  8.31430081e-01],\n",
       "       [ 2.71307563e+00,  7.57134179e-01],\n",
       "       [ 1.97720335e+00,  9.54035598e-01],\n",
       "       [ 2.41008767e-01,  4.81040511e+00],\n",
       "       [ 4.53791789e-01,  3.95647753e+00],\n",
       "       [ 4.09602325e-01,  4.05775751e+00],\n",
       "       [ 2.17230934e+00, -1.71274053e-01],\n",
       "       [ 1.79175381e+00,  1.00646672e+00],\n",
       "       [ 2.76409468e+00,  5.18521405e-01],\n",
       "       [ 2.08496451e+00,  1.19396573e+00],\n",
       "       [ 1.86979885e+00,  7.57583663e-01],\n",
       "       [ 2.51811109e+00,  1.51532696e+00],\n",
       "       [ 8.15155229e-02,  4.56742235e+00],\n",
       "       [ 2.47434181e+00,  8.99926193e-01],\n",
       "       [ 1.52237742e+00,  4.49411826e+00],\n",
       "       [ 7.15177948e-01,  5.41334556e+00],\n",
       "       [ 1.66389136e+00,  5.84950073e-01],\n",
       "       [ 4.59764179e-01,  1.26145537e+00],\n",
       "       [ 3.09490023e+00,  1.30836432e+00],\n",
       "       [ 5.32532281e-01,  5.22959608e+00],\n",
       "       [ 6.98112494e-01,  4.59267621e+00],\n",
       "       [ 1.04653659e+00,  3.64280845e-01],\n",
       "       [ 2.09680487e+00,  3.71742060e+00],\n",
       "       [ 1.86922139e+00,  5.44132083e+00],\n",
       "       [ 2.32971689e+00,  3.18896452e-01],\n",
       "       [ 9.17198564e-01,  3.90570036e+00],\n",
       "       [ 3.09859113e+00,  1.49430029e+00],\n",
       "       [ 1.71368029e+00,  1.05960627e+00],\n",
       "       [ 1.16411070e+00,  3.79132988e+00],\n",
       "       [ 1.44444240e+00,  8.50950806e-01],\n",
       "       [ 1.15521298e+00,  5.09961887e+00],\n",
       "       [ 2.35862010e+00,  3.66777783e+00],\n",
       "       [ 1.07017400e+00,  4.44309595e+00],\n",
       "       [ 2.44125620e+00, -4.47103852e-02],\n",
       "       [ 2.02996465e+00,  7.25531345e-01],\n",
       "       [-5.55523811e-01,  4.69595848e+00],\n",
       "       [ 1.29023607e+00,  4.20085953e+00],\n",
       "       [ 4.94224280e-01,  3.89005746e+00],\n",
       "       [ 6.77450608e-01,  5.46150656e+00],\n",
       "       [ 7.28098690e-01,  3.85531444e+00],\n",
       "       [ 2.62074839e+00,  7.37106812e-01],\n",
       "       [ 3.67300195e+00,  8.53308860e-01],\n",
       "       [ 8.96541732e-01,  4.12511280e+00],\n",
       "       [ 3.76140870e-01,  3.37692467e+00],\n",
       "       [ 4.31891060e-01,  4.33495456e+00],\n",
       "       [ 2.14981746e+00,  4.53784332e+00],\n",
       "       [ 1.36034899e+00,  3.33361370e+00],\n",
       "       [ 7.89738376e-01,  4.36222743e+00],\n",
       "       [ 1.77394901e+00, -4.23201111e-01],\n",
       "       [ 1.88016510e+00,  4.40768333e-01],\n",
       "       [ 2.38125466e+00,  1.16108943e+00],\n",
       "       [ 1.29060469e+00,  4.35684058e+00],\n",
       "       [ 8.94700258e-01,  4.98592215e+00],\n",
       "       [ 1.89828025e+00,  7.88316790e-01],\n",
       "       [ 2.15362466e+00,  9.55456473e-01],\n",
       "       [ 2.57282513e+00, -6.95707796e-01],\n",
       "       [ 5.99417543e-01,  4.01517106e+00],\n",
       "       [ 9.52700388e-01,  3.60293123e+00],\n",
       "       [ 2.24592863e-01,  4.77028154e+00],\n",
       "       [ 1.43730635e+00,  6.87697641e-01],\n",
       "       [ 2.69637316e+00,  6.25632178e-01],\n",
       "       [ 9.35325115e-01,  5.33179296e+00],\n",
       "       [ 2.71543812e+00,  1.67647684e+00],\n",
       "       [ 2.61437655e+00,  1.10164265e+00],\n",
       "       [ 5.84824929e-01,  4.06921530e+00],\n",
       "       [ 1.18734670e+00,  1.37784243e+00],\n",
       "       [ 1.62350489e+00,  4.09867867e-01],\n",
       "       [ 1.28890900e+00,  3.95831455e+00]])"
      ]
     },
     "execution_count": 40,
     "metadata": {},
     "output_type": "execute_result"
    }
   ],
   "source": [
    "import matplotlib.pyplot as plt\n",
    "from sklearn.datasets import make_blobs\n",
    "from sklearn.cluster import KMeans\n",
    "X, i = make_blobs(n_samples=300, centers=2, cluster_std=0.60, random_state=0)\n",
    "X"
   ]
  },
  {
   "cell_type": "code",
   "execution_count": 41,
   "id": "c3f45b2a",
   "metadata": {},
   "outputs": [
    {
     "data": {
      "image/png": "[encoded data removed]",
      "text/plain": [
       "<Figure size 640x480 with 1 Axes>"
      ]
     },
     "metadata": {},
     "output_type": "display_data"
    }
   ],
   "source": [
    "kmeans = KMeans(n_clusters=2)\n",
    "kmeans.fit(X)\n",
    "y_kmeans = kmeans.predict(X)\n",
    "plt.scatter(X[:, 0], X[:, 1], c=y_kmeans, s=50, cmap='viridis')\n",
    "centers = kmeans.cluster_centers_\n",
    "plt.scatter(centers[:, 0], centers[:, 1], c='red', s=200, alpha=0.5)\n",
    "plt.xlabel('Feature 1')\n",
    "plt.ylabel('Feature 2')\n",
    "plt.title('k-Means Clustering')\n",
    "plt.show()"
   ]
  },
  {
   "cell_type": "markdown",
   "id": "6460d0e1",
   "metadata": {},
   "source": [
    "# DECISION TREE with GRIDSEARCHCV HYPERPARAM OPTIMIZATION"
   ]
  },
  {
   "cell_type": "code",
   "execution_count": 42,
   "id": "c8988043",
   "metadata": {},
   "outputs": [
    {
     "name": "stdout",
     "output_type": "stream",
     "text": [
      "[[1.799e+01 1.038e+01 1.228e+02 ... 2.654e-01 4.601e-01 1.189e-01]\n",
      " [2.057e+01 1.777e+01 1.329e+02 ... 1.860e-01 2.750e-01 8.902e-02]\n",
      " [1.969e+01 2.125e+01 1.300e+02 ... 2.430e-01 3.613e-01 8.758e-02]\n",
      " ...\n",
      " [1.660e+01 2.808e+01 1.083e+02 ... 1.418e-01 2.218e-01 7.820e-02]\n",
      " [2.060e+01 2.933e+01 1.401e+02 ... 2.650e-01 4.087e-01 1.240e-01]\n",
      " [7.760e+00 2.454e+01 4.792e+01 ... 0.000e+00 2.871e-01 7.039e-02]] [0 0 0 0 0 0 0 0 0 0 0 0 0 0 0 0 0 0 0 1 1 1 0 0 0 0 0 0 0 0 0 0 0 0 0 0 0\n",
      " 1 0 0 0 0 0 0 0 0 1 0 1 1 1 1 1 0 0 1 0 0 1 1 1 1 0 1 0 0 1 1 1 1 0 1 0 0\n",
      " 1 0 1 0 0 1 1 1 0 0 1 0 0 0 1 1 1 0 1 1 0 0 1 1 1 0 0 1 1 1 1 0 1 1 0 1 1\n",
      " 1 1 1 1 1 1 0 0 0 1 0 0 1 1 1 0 0 1 0 1 0 0 1 0 0 1 1 0 1 1 0 1 1 1 1 0 1\n",
      " 1 1 1 1 1 1 1 1 0 1 1 1 1 0 0 1 0 1 1 0 0 1 1 0 0 1 1 1 1 0 1 1 0 0 0 1 0\n",
      " 1 0 1 1 1 0 1 1 0 0 1 0 0 0 0 1 0 0 0 1 0 1 0 1 1 0 1 0 0 0 0 1 1 0 0 1 1\n",
      " 1 0 1 1 1 1 1 0 0 1 1 0 1 1 0 0 1 0 1 1 1 1 0 1 1 1 1 1 0 1 0 0 0 0 0 0 0\n",
      " 0 0 0 0 0 0 0 1 1 1 1 1 1 0 1 0 1 1 0 1 1 0 1 0 0 1 1 1 1 1 1 1 1 1 1 1 1\n",
      " 1 0 1 1 0 1 0 1 1 1 1 1 1 1 1 1 1 1 1 1 1 0 1 1 1 0 1 0 1 1 1 1 0 0 0 1 1\n",
      " 1 1 0 1 0 1 0 1 1 1 0 1 1 1 1 1 1 1 0 0 0 1 1 1 1 1 1 1 1 1 1 1 0 0 1 0 0\n",
      " 0 1 0 0 1 1 1 1 1 0 1 1 1 1 1 0 1 1 1 0 1 1 0 0 1 1 1 1 1 1 0 1 1 1 1 1 1\n",
      " 1 0 1 1 1 1 1 0 1 1 0 1 1 1 1 1 1 1 1 1 1 1 1 0 1 0 0 1 0 1 1 1 1 1 0 1 1\n",
      " 0 1 0 1 1 0 1 0 1 1 1 1 1 1 1 1 0 0 1 1 1 1 1 1 0 1 1 1 1 1 1 1 1 1 1 0 1\n",
      " 1 1 1 1 1 1 0 1 0 1 1 0 1 1 1 1 1 0 0 1 0 1 0 1 1 1 1 1 0 1 1 0 1 0 1 0 0\n",
      " 1 1 1 0 1 1 1 1 1 1 1 1 1 1 1 0 1 0 0 1 1 1 1 1 1 1 1 1 1 1 1 1 1 1 1 1 1\n",
      " 1 1 1 1 1 1 1 0 0 0 0 0 0 1]\n"
     ]
    }
   ],
   "source": [
    "from sklearn.datasets import load_breast_cancer\n",
    "from sklearn.model_selection import train_test_split\n",
    "from sklearn.tree import DecisionTreeClassifier, plot_tree\n",
    "import matplotlib.pyplot as plt\n",
    "data = load_breast_cancer()\n",
    "X = data.data\n",
    "y = data.target\n",
    "print(X,y)"
   ]
  },
  {
   "cell_type": "code",
   "execution_count": 43,
   "id": "c2dbfcd2",
   "metadata": {},
   "outputs": [
    {
     "data": {
      "image/png": "[encoded data removed]",
      "text/plain": [
       "<Figure size 1200x800 with 1 Axes>"
      ]
     },
     "metadata": {},
     "output_type": "display_data"
    }
   ],
   "source": [
    "X_train, X_test, y_train, y_test = train_test_split(X, y, test_size=0.3, random_state=42)\n",
    "clf = DecisionTreeClassifier(max_depth=3, min_samples_split=2, min_samples_leaf=1)\n",
    "clf.fit(X_train, y_train)\n",
    "plt.figure(figsize=(12, 8))\n",
    "plot_tree(clf, feature_names=data.feature_names, class_names=data.target_names, filled=True)\n",
    "plt.show()"
   ]
  },
  {
   "cell_type": "code",
   "execution_count": 44,
   "id": "84dc5d0b",
   "metadata": {},
   "outputs": [
    {
     "name": "stdout",
     "output_type": "stream",
     "text": [
      "[[1.799e+01 1.038e+01 1.228e+02 ... 2.654e-01 4.601e-01 1.189e-01]\n",
      " [2.057e+01 1.777e+01 1.329e+02 ... 1.860e-01 2.750e-01 8.902e-02]\n",
      " [1.969e+01 2.125e+01 1.300e+02 ... 2.430e-01 3.613e-01 8.758e-02]\n",
      " ...\n",
      " [1.660e+01 2.808e+01 1.083e+02 ... 1.418e-01 2.218e-01 7.820e-02]\n",
      " [2.060e+01 2.933e+01 1.401e+02 ... 2.650e-01 4.087e-01 1.240e-01]\n",
      " [7.760e+00 2.454e+01 4.792e+01 ... 0.000e+00 2.871e-01 7.039e-02]] [0 0 0 0 0 0 0 0 0 0 0 0 0 0 0 0 0 0 0 1 1 1 0 0 0 0 0 0 0 0 0 0 0 0 0 0 0\n",
      " 1 0 0 0 0 0 0 0 0 1 0 1 1 1 1 1 0 0 1 0 0 1 1 1 1 0 1 0 0 1 1 1 1 0 1 0 0\n",
      " 1 0 1 0 0 1 1 1 0 0 1 0 0 0 1 1 1 0 1 1 0 0 1 1 1 0 0 1 1 1 1 0 1 1 0 1 1\n",
      " 1 1 1 1 1 1 0 0 0 1 0 0 1 1 1 0 0 1 0 1 0 0 1 0 0 1 1 0 1 1 0 1 1 1 1 0 1\n",
      " 1 1 1 1 1 1 1 1 0 1 1 1 1 0 0 1 0 1 1 0 0 1 1 0 0 1 1 1 1 0 1 1 0 0 0 1 0\n",
      " 1 0 1 1 1 0 1 1 0 0 1 0 0 0 0 1 0 0 0 1 0 1 0 1 1 0 1 0 0 0 0 1 1 0 0 1 1\n",
      " 1 0 1 1 1 1 1 0 0 1 1 0 1 1 0 0 1 0 1 1 1 1 0 1 1 1 1 1 0 1 0 0 0 0 0 0 0\n",
      " 0 0 0 0 0 0 0 1 1 1 1 1 1 0 1 0 1 1 0 1 1 0 1 0 0 1 1 1 1 1 1 1 1 1 1 1 1\n",
      " 1 0 1 1 0 1 0 1 1 1 1 1 1 1 1 1 1 1 1 1 1 0 1 1 1 0 1 0 1 1 1 1 0 0 0 1 1\n",
      " 1 1 0 1 0 1 0 1 1 1 0 1 1 1 1 1 1 1 0 0 0 1 1 1 1 1 1 1 1 1 1 1 0 0 1 0 0\n",
      " 0 1 0 0 1 1 1 1 1 0 1 1 1 1 1 0 1 1 1 0 1 1 0 0 1 1 1 1 1 1 0 1 1 1 1 1 1\n",
      " 1 0 1 1 1 1 1 0 1 1 0 1 1 1 1 1 1 1 1 1 1 1 1 0 1 0 0 1 0 1 1 1 1 1 0 1 1\n",
      " 0 1 0 1 1 0 1 0 1 1 1 1 1 1 1 1 0 0 1 1 1 1 1 1 0 1 1 1 1 1 1 1 1 1 1 0 1\n",
      " 1 1 1 1 1 1 0 1 0 1 1 0 1 1 1 1 1 0 0 1 0 1 0 1 1 1 1 1 0 1 1 0 1 0 1 0 0\n",
      " 1 1 1 0 1 1 1 1 1 1 1 1 1 1 1 0 1 0 0 1 1 1 1 1 1 1 1 1 1 1 1 1 1 1 1 1 1\n",
      " 1 1 1 1 1 1 1 0 0 0 0 0 0 1]\n"
     ]
    }
   ],
   "source": [
    "from sklearn.datasets import load_breast_cancer\n",
    "from sklearn.model_selection import train_test_split, GridSearchCV\n",
    "from sklearn.tree import DecisionTreeClassifier\n",
    "from sklearn.metrics import accuracy_score\n",
    "data = load_breast_cancer()\n",
    "X = data.data\n",
    "y = data.target\n",
    "print(X,y)"
   ]
  },
  {
   "cell_type": "code",
   "execution_count": 45,
   "id": "f54c182a",
   "metadata": {},
   "outputs": [
    {
     "name": "stdout",
     "output_type": "stream",
     "text": [
      "Accuracy: 0.9649122807017544\n"
     ]
    }
   ],
   "source": [
    "X_train, X_test, y_train, y_test = train_test_split(X, y, test_size=0.3, random_state=42)\n",
    "clf = DecisionTreeClassifier()\n",
    "param_grid = {\n",
    "    'max_depth': [3, 5, 7],\n",
    "    'min_samples_split': [2, 5, 10],\n",
    "    'min_samples_leaf': [1, 2, 4]\n",
    "}\n",
    "grid_search = GridSearchCV(estimator=clf, param_grid=param_grid, cv=5, scoring='accuracy')\n",
    "grid_search.fit(X_train, y_train)\n",
    "accuracy = accuracy_score(y_test, y_pred)\n",
    "print(\"Accuracy:\", accuracy)"
   ]
  },
  {
   "cell_type": "markdown",
   "id": "0d298d09",
   "metadata": {},
   "source": [
    "# RANDOM FOREST WITH RANDOMIZED SEARCHCV"
   ]
  },
  {
   "cell_type": "code",
   "execution_count": 59,
   "id": "ed8b5db9",
   "metadata": {},
   "outputs": [
    {
     "data": {
      "text/html": [
       "<div>\n",
       "<style scoped>\n",
       "    .dataframe tbody tr th:only-of-type {\n",
       "        vertical-align: middle;\n",
       "    }\n",
       "\n",
       "    .dataframe tbody tr th {\n",
       "        vertical-align: top;\n",
       "    }\n",
       "\n",
       "    .dataframe thead th {\n",
       "        text-align: right;\n",
       "    }\n",
       "</style>\n",
       "<table border=\"1\" class=\"dataframe\">\n",
       "  <thead>\n",
       "    <tr style=\"text-align: right;\">\n",
       "      <th></th>\n",
       "      <th>age</th>\n",
       "      <th>sex</th>\n",
       "      <th>cp</th>\n",
       "      <th>trestbps</th>\n",
       "      <th>chol</th>\n",
       "      <th>fbs</th>\n",
       "      <th>restecg</th>\n",
       "      <th>thalach</th>\n",
       "      <th>exang</th>\n",
       "      <th>oldpeak</th>\n",
       "      <th>slope</th>\n",
       "      <th>ca</th>\n",
       "      <th>thal</th>\n",
       "      <th>target</th>\n",
       "    </tr>\n",
       "  </thead>\n",
       "  <tbody>\n",
       "    <tr>\n",
       "      <th>0</th>\n",
       "      <td>63</td>\n",
       "      <td>1</td>\n",
       "      <td>3</td>\n",
       "      <td>145</td>\n",
       "      <td>233</td>\n",
       "      <td>1</td>\n",
       "      <td>0</td>\n",
       "      <td>150</td>\n",
       "      <td>0</td>\n",
       "      <td>2.3</td>\n",
       "      <td>0</td>\n",
       "      <td>0</td>\n",
       "      <td>1</td>\n",
       "      <td>1</td>\n",
       "    </tr>\n",
       "    <tr>\n",
       "      <th>1</th>\n",
       "      <td>37</td>\n",
       "      <td>1</td>\n",
       "      <td>2</td>\n",
       "      <td>130</td>\n",
       "      <td>250</td>\n",
       "      <td>0</td>\n",
       "      <td>1</td>\n",
       "      <td>187</td>\n",
       "      <td>0</td>\n",
       "      <td>3.5</td>\n",
       "      <td>0</td>\n",
       "      <td>0</td>\n",
       "      <td>2</td>\n",
       "      <td>1</td>\n",
       "    </tr>\n",
       "    <tr>\n",
       "      <th>2</th>\n",
       "      <td>41</td>\n",
       "      <td>0</td>\n",
       "      <td>1</td>\n",
       "      <td>130</td>\n",
       "      <td>204</td>\n",
       "      <td>0</td>\n",
       "      <td>0</td>\n",
       "      <td>172</td>\n",
       "      <td>0</td>\n",
       "      <td>1.4</td>\n",
       "      <td>2</td>\n",
       "      <td>0</td>\n",
       "      <td>2</td>\n",
       "      <td>1</td>\n",
       "    </tr>\n",
       "    <tr>\n",
       "      <th>3</th>\n",
       "      <td>56</td>\n",
       "      <td>1</td>\n",
       "      <td>1</td>\n",
       "      <td>120</td>\n",
       "      <td>236</td>\n",
       "      <td>0</td>\n",
       "      <td>1</td>\n",
       "      <td>178</td>\n",
       "      <td>0</td>\n",
       "      <td>0.8</td>\n",
       "      <td>2</td>\n",
       "      <td>0</td>\n",
       "      <td>2</td>\n",
       "      <td>1</td>\n",
       "    </tr>\n",
       "    <tr>\n",
       "      <th>4</th>\n",
       "      <td>57</td>\n",
       "      <td>0</td>\n",
       "      <td>0</td>\n",
       "      <td>120</td>\n",
       "      <td>354</td>\n",
       "      <td>0</td>\n",
       "      <td>1</td>\n",
       "      <td>163</td>\n",
       "      <td>1</td>\n",
       "      <td>0.6</td>\n",
       "      <td>2</td>\n",
       "      <td>0</td>\n",
       "      <td>2</td>\n",
       "      <td>1</td>\n",
       "    </tr>\n",
       "  </tbody>\n",
       "</table>\n",
       "</div>"
      ],
      "text/plain": [
       "   age  sex  cp  trestbps  chol  fbs  restecg  thalach  exang  oldpeak  slope  \\\n",
       "0   63    1   3       145   233    1        0      150      0      2.3      0   \n",
       "1   37    1   2       130   250    0        1      187      0      3.5      0   \n",
       "2   41    0   1       130   204    0        0      172      0      1.4      2   \n",
       "3   56    1   1       120   236    0        1      178      0      0.8      2   \n",
       "4   57    0   0       120   354    0        1      163      1      0.6      2   \n",
       "\n",
       "   ca  thal  target  \n",
       "0   0     1       1  \n",
       "1   0     2       1  \n",
       "2   0     2       1  \n",
       "3   0     2       1  \n",
       "4   0     2       1  "
      ]
     },
     "execution_count": 59,
     "metadata": {},
     "output_type": "execute_result"
    }
   ],
   "source": [
    "import seaborn as sns\n",
    "from sklearn.ensemble import RandomForestClassifier,GradientBoostingClassifier\n",
    "from sklearn.svm import SVC\n",
    "df = pd.read_csv('heart.csv')\n",
    "df.head()"
   ]
  },
  {
   "cell_type": "code",
   "execution_count": 60,
   "id": "9d9cfc00",
   "metadata": {},
   "outputs": [
    {
     "data": {
      "text/plain": [
       "(303, 14)"
      ]
     },
     "execution_count": 60,
     "metadata": {},
     "output_type": "execute_result"
    }
   ],
   "source": [
    "df.shape "
   ]
  },
  {
   "cell_type": "code",
   "execution_count": 63,
   "id": "f16b21f4",
   "metadata": {},
   "outputs": [
    {
     "name": "stdout",
     "output_type": "stream",
     "text": [
      "(242, 13)\n",
      "(61, 13)\n"
     ]
    }
   ],
   "source": [
    "X = df.iloc[:,0:-1]\n",
    "y = df.iloc[:,-1]\n",
    "X_train,X_test,y_train,y_test = train_test_split(X,y,test_size=0.2,random_state=42)\n",
    "print(X_train.shape)\n",
    "print(X_test.shape)"
   ]
  },
  {
   "cell_type": "code",
   "execution_count": 65,
   "id": "ef43e11a",
   "metadata": {},
   "outputs": [
    {
     "data": {
      "text/plain": [
       "0.9016393442622951"
      ]
     },
     "execution_count": 65,
     "metadata": {},
     "output_type": "execute_result"
    }
   ],
   "source": [
    "rf = RandomForestClassifier(max_samples=0.75,random_state=42)\n",
    "rf.fit(X_train,y_train)\n",
    "y_pred = rf.predict(X_test)\n",
    "accuracy_score(y_test,y_pred)"
   ]
  },
  {
   "cell_type": "code",
   "execution_count": 67,
   "id": "ec9bda8c",
   "metadata": {},
   "outputs": [],
   "source": [
    "n_estimators = [20,60,100,120]\n",
    "max_features = [0.2,0.6,1.0]\n",
    "max_depth = [2,8,None]\n",
    "max_samples = [0.5,0.75,1.0]\n",
    "bootstrap = [True,False]\n",
    "min_samples_split = [2, 5]\n",
    "min_samples_leaf = [1, 2]\n",
    "param_grid = {'n_estimators': n_estimators,\n",
    "               'max_features': max_features,\n",
    "               'max_depth': max_depth,\n",
    "              'max_samples':max_samples,\n",
    "              'bootstrap':bootstrap,\n",
    "              'min_samples_split':min_samples_split,\n",
    "              'min_samples_leaf':min_samples_leaf\n",
    "             }\n"
   ]
  },
  {
   "cell_type": "code",
   "execution_count": 68,
   "id": "962b22eb",
   "metadata": {},
   "outputs": [
    {
     "name": "stdout",
     "output_type": "stream",
     "text": [
      "Fitting 5 folds for each of 10 candidates, totalling 50 fits\n"
     ]
    },
    {
     "name": "stderr",
     "output_type": "stream",
     "text": [
      "C:\\Users\\SHIVANSH SHEKHAR\\anaconda3\\lib\\site-packages\\sklearn\\model_selection\\_validation.py:372: FitFailedWarning: \n",
      "25 fits failed out of a total of 50.\n",
      "The score on these train-test partitions for these parameters will be set to nan.\n",
      "If these failures are not expected, you can try to debug them by setting error_score='raise'.\n",
      "\n",
      "Below are more details about the failures:\n",
      "--------------------------------------------------------------------------------\n",
      "25 fits failed with the following error:\n",
      "Traceback (most recent call last):\n",
      "  File \"C:\\Users\\SHIVANSH SHEKHAR\\anaconda3\\lib\\site-packages\\sklearn\\model_selection\\_validation.py\", line 680, in _fit_and_score\n",
      "    estimator.fit(X_train, y_train, **fit_params)\n",
      "  File \"C:\\Users\\SHIVANSH SHEKHAR\\anaconda3\\lib\\site-packages\\sklearn\\ensemble\\_forest.py\", line 379, in fit\n",
      "    raise ValueError(\n",
      "ValueError: `max_sample` cannot be set if `bootstrap=False`. Either switch to `bootstrap=True` or set `max_sample=None`.\n",
      "\n",
      "  warnings.warn(some_fits_failed_message, FitFailedWarning)\n",
      "C:\\Users\\SHIVANSH SHEKHAR\\anaconda3\\lib\\site-packages\\sklearn\\model_selection\\_search.py:969: UserWarning: One or more of the test scores are non-finite: [0.79336735        nan 0.79744898        nan        nan 0.81394558\n",
      "        nan 0.78911565        nan 0.80994898]\n",
      "  warnings.warn(\n"
     ]
    },
    {
     "data": {
      "text/plain": [
       "RandomizedSearchCV(cv=5,\n",
       "                   estimator=RandomForestClassifier(max_samples=0.75,\n",
       "                                                    random_state=42),\n",
       "                   n_jobs=-1,\n",
       "                   param_distributions={'bootstrap': [True, False],\n",
       "                                        'max_depth': [2, 8, None],\n",
       "                                        'max_features': [0.2, 0.6, 1.0],\n",
       "                                        'max_samples': [0.5, 0.75, 1.0],\n",
       "                                        'min_samples_leaf': [1, 2],\n",
       "                                        'min_samples_split': [2, 5],\n",
       "                                        'n_estimators': [20, 60, 100, 120]},\n",
       "                   verbose=2)"
      ]
     },
     "execution_count": 68,
     "metadata": {},
     "output_type": "execute_result"
    }
   ],
   "source": [
    "from sklearn.model_selection import RandomizedSearchCV\n",
    "rf_grid = RandomizedSearchCV(estimator = rf, \n",
    "                       param_distributions = param_grid, \n",
    "                       cv = 5, \n",
    "                       verbose=2, \n",
    "                       n_jobs = -1)\n",
    "rf_grid.fit(X_train,y_train)"
   ]
  },
  {
   "cell_type": "code",
   "execution_count": 69,
   "id": "7029dcc2",
   "metadata": {},
   "outputs": [
    {
     "data": {
      "text/plain": [
       "0.8139455782312925"
      ]
     },
     "execution_count": 69,
     "metadata": {},
     "output_type": "execute_result"
    }
   ],
   "source": [
    "rf_grid.best_score_"
   ]
  },
  {
   "cell_type": "markdown",
   "id": "56acfcfb",
   "metadata": {},
   "source": [
    "# ENSEMBLE - STACK\n"
   ]
  },
  {
   "cell_type": "code",
   "execution_count": 76,
   "id": "1ca1170a",
   "metadata": {},
   "outputs": [
    {
     "name": "stdout",
     "output_type": "stream",
     "text": [
      "[[1.281e+01 2.310e+00 2.400e+00 ... 6.600e-01 1.360e+00 5.600e+02]\n",
      " [1.285e+01 3.270e+00 2.580e+00 ... 8.700e-01 2.110e+00 5.700e+02]\n",
      " [1.208e+01 1.830e+00 2.320e+00 ... 1.080e+00 2.270e+00 4.800e+02]\n",
      " ...\n",
      " [1.371e+01 5.650e+00 2.450e+00 ... 6.400e-01 1.740e+00 7.400e+02]\n",
      " [1.296e+01 3.450e+00 2.350e+00 ... 6.800e-01 1.750e+00 6.750e+02]\n",
      " [1.406e+01 1.630e+00 2.280e+00 ... 1.090e+00 3.710e+00 7.800e+02]] [[1.437e+01 1.950e+00 2.500e+00 1.680e+01 1.130e+02 3.850e+00 3.490e+00\n",
      "  2.400e-01 2.180e+00 7.800e+00 8.600e-01 3.450e+00 1.480e+03]\n",
      " [1.303e+01 9.000e-01 1.710e+00 1.600e+01 8.600e+01 1.950e+00 2.030e+00\n",
      "  2.400e-01 1.460e+00 4.600e+00 1.190e+00 2.480e+00 3.920e+02]\n",
      " [1.390e+01 1.680e+00 2.120e+00 1.600e+01 1.010e+02 3.100e+00 3.390e+00\n",
      "  2.100e-01 2.140e+00 6.100e+00 9.100e-01 3.330e+00 9.850e+02]\n",
      " [1.236e+01 3.830e+00 2.380e+00 2.100e+01 8.800e+01 2.300e+00 9.200e-01\n",
      "  5.000e-01 1.040e+00 7.650e+00 5.600e-01 1.580e+00 5.200e+02]\n",
      " [1.245e+01 3.030e+00 2.640e+00 2.700e+01 9.700e+01 1.900e+00 5.800e-01\n",
      "  6.300e-01 1.140e+00 7.500e+00 6.700e-01 1.730e+00 8.800e+02]\n",
      " [1.386e+01 1.350e+00 2.270e+00 1.600e+01 9.800e+01 2.980e+00 3.150e+00\n",
      "  2.200e-01 1.850e+00 7.220e+00 1.010e+00 3.550e+00 1.045e+03]\n",
      " [1.267e+01 9.800e-01 2.240e+00 1.800e+01 9.900e+01 2.200e+00 1.940e+00\n",
      "  3.000e-01 1.460e+00 2.620e+00 1.230e+00 3.160e+00 4.500e+02]\n",
      " [1.270e+01 3.870e+00 2.400e+00 2.300e+01 1.010e+02 2.830e+00 2.550e+00\n",
      "  4.300e-01 1.950e+00 2.570e+00 1.190e+00 3.130e+00 4.630e+02]\n",
      " [1.305e+01 1.650e+00 2.550e+00 1.800e+01 9.800e+01 2.450e+00 2.430e+00\n",
      "  2.900e-01 1.440e+00 4.250e+00 1.120e+00 2.510e+00 1.105e+03]\n",
      " [1.237e+01 1.210e+00 2.560e+00 1.810e+01 9.800e+01 2.420e+00 2.650e+00\n",
      "  3.700e-01 2.080e+00 4.600e+00 1.190e+00 2.300e+00 6.780e+02]\n",
      " [1.438e+01 3.590e+00 2.280e+00 1.600e+01 1.020e+02 3.250e+00 3.170e+00\n",
      "  2.700e-01 2.190e+00 4.900e+00 1.040e+00 3.440e+00 1.065e+03]\n",
      " [1.247e+01 1.520e+00 2.200e+00 1.900e+01 1.620e+02 2.500e+00 2.270e+00\n",
      "  3.200e-01 3.280e+00 2.600e+00 1.160e+00 2.630e+00 9.370e+02]\n",
      " [1.204e+01 4.300e+00 2.380e+00 2.200e+01 8.000e+01 2.100e+00 1.750e+00\n",
      "  4.200e-01 1.350e+00 2.600e+00 7.900e-01 2.570e+00 5.800e+02]\n",
      " [1.372e+01 1.430e+00 2.500e+00 1.670e+01 1.080e+02 3.400e+00 3.670e+00\n",
      "  1.900e-01 2.040e+00 6.800e+00 8.900e-01 2.870e+00 1.285e+03]\n",
      " [1.164e+01 2.060e+00 2.460e+00 2.160e+01 8.400e+01 1.950e+00 1.690e+00\n",
      "  4.800e-01 1.350e+00 2.800e+00 1.000e+00 2.750e+00 6.800e+02]\n",
      " [1.243e+01 1.530e+00 2.290e+00 2.150e+01 8.600e+01 2.740e+00 3.150e+00\n",
      "  3.900e-01 1.770e+00 3.940e+00 6.900e-01 2.840e+00 3.520e+02]\n",
      " [1.386e+01 1.510e+00 2.670e+00 2.500e+01 8.600e+01 2.950e+00 2.860e+00\n",
      "  2.100e-01 1.870e+00 3.380e+00 1.360e+00 3.160e+00 4.100e+02]\n",
      " [1.324e+01 3.980e+00 2.290e+00 1.750e+01 1.030e+02 2.640e+00 2.630e+00\n",
      "  3.200e-01 1.660e+00 4.360e+00 8.200e-01 3.000e+00 6.800e+02]\n",
      " [1.368e+01 1.830e+00 2.360e+00 1.720e+01 1.040e+02 2.420e+00 2.690e+00\n",
      "  4.200e-01 1.970e+00 3.840e+00 1.230e+00 2.870e+00 9.900e+02]\n",
      " [1.387e+01 1.900e+00 2.800e+00 1.940e+01 1.070e+02 2.950e+00 2.970e+00\n",
      "  3.700e-01 1.760e+00 4.500e+00 1.250e+00 3.400e+00 9.150e+02]\n",
      " [1.421e+01 4.040e+00 2.440e+00 1.890e+01 1.110e+02 2.850e+00 2.650e+00\n",
      "  3.000e-01 1.250e+00 5.240e+00 8.700e-01 3.330e+00 1.080e+03]\n",
      " [1.413e+01 4.100e+00 2.740e+00 2.450e+01 9.600e+01 2.050e+00 7.600e-01\n",
      "  5.600e-01 1.350e+00 9.200e+00 6.100e-01 1.600e+00 5.600e+02]\n",
      " [1.299e+01 1.670e+00 2.600e+00 3.000e+01 1.390e+02 3.300e+00 2.890e+00\n",
      "  2.100e-01 1.960e+00 3.350e+00 1.310e+00 3.500e+00 9.850e+02]\n",
      " [1.316e+01 2.360e+00 2.670e+00 1.860e+01 1.010e+02 2.800e+00 3.240e+00\n",
      "  3.000e-01 2.810e+00 5.680e+00 1.030e+00 3.170e+00 1.185e+03]\n",
      " [1.375e+01 1.730e+00 2.410e+00 1.600e+01 8.900e+01 2.600e+00 2.760e+00\n",
      "  2.900e-01 1.810e+00 5.600e+00 1.150e+00 2.900e+00 1.320e+03]\n",
      " [1.383e+01 1.570e+00 2.620e+00 2.000e+01 1.150e+02 2.950e+00 3.400e+00\n",
      "  4.000e-01 1.720e+00 6.600e+00 1.130e+00 2.570e+00 1.130e+03]\n",
      " [1.384e+01 4.120e+00 2.380e+00 1.950e+01 8.900e+01 1.800e+00 8.300e-01\n",
      "  4.800e-01 1.560e+00 9.010e+00 5.700e-01 1.640e+00 4.800e+02]\n",
      " [1.349e+01 3.590e+00 2.190e+00 1.950e+01 8.800e+01 1.620e+00 4.800e-01\n",
      "  5.800e-01 8.800e-01 5.700e+00 8.100e-01 1.820e+00 5.800e+02]\n",
      " [1.270e+01 3.550e+00 2.360e+00 2.150e+01 1.060e+02 1.700e+00 1.200e+00\n",
      "  1.700e-01 8.400e-01 5.000e+00 7.800e-01 1.290e+00 6.000e+02]\n",
      " [1.334e+01 9.400e-01 2.360e+00 1.700e+01 1.100e+02 2.530e+00 1.300e+00\n",
      "  5.500e-01 4.200e-01 3.170e+00 1.020e+00 1.930e+00 7.500e+02]\n",
      " [1.208e+01 1.130e+00 2.510e+00 2.400e+01 7.800e+01 2.000e+00 1.580e+00\n",
      "  4.000e-01 1.400e+00 2.200e+00 1.310e+00 2.720e+00 6.300e+02]\n",
      " [1.348e+01 1.670e+00 2.640e+00 2.250e+01 8.900e+01 2.600e+00 1.100e+00\n",
      "  5.200e-01 2.290e+00 1.175e+01 5.700e-01 1.780e+00 6.200e+02]\n",
      " [1.207e+01 2.160e+00 2.170e+00 2.100e+01 8.500e+01 2.600e+00 2.650e+00\n",
      "  3.700e-01 1.350e+00 2.760e+00 8.600e-01 3.280e+00 3.780e+02]\n",
      " [1.222e+01 1.290e+00 1.940e+00 1.900e+01 9.200e+01 2.360e+00 2.040e+00\n",
      "  3.900e-01 2.080e+00 2.700e+00 8.600e-01 3.020e+00 3.120e+02]\n",
      " [1.229e+01 1.610e+00 2.210e+00 2.040e+01 1.030e+02 1.100e+00 1.020e+00\n",
      "  3.700e-01 1.460e+00 3.050e+00 9.060e-01 1.820e+00 8.700e+02]\n",
      " [1.376e+01 1.530e+00 2.700e+00 1.950e+01 1.320e+02 2.950e+00 2.740e+00\n",
      "  5.000e-01 1.350e+00 5.400e+00 1.250e+00 3.000e+00 1.235e+03]\n",
      " [1.339e+01 1.770e+00 2.620e+00 1.610e+01 9.300e+01 2.850e+00 2.940e+00\n",
      "  3.400e-01 1.450e+00 4.800e+00 9.200e-01 3.220e+00 1.195e+03]\n",
      " [1.287e+01 4.610e+00 2.480e+00 2.150e+01 8.600e+01 1.700e+00 6.500e-01\n",
      "  4.700e-01 8.600e-01 7.650e+00 5.400e-01 1.860e+00 6.250e+02]\n",
      " [1.373e+01 4.360e+00 2.260e+00 2.250e+01 8.800e+01 1.280e+00 4.700e-01\n",
      "  5.200e-01 1.150e+00 6.620e+00 7.800e-01 1.750e+00 5.200e+02]\n",
      " [1.348e+01 1.810e+00 2.410e+00 2.050e+01 1.000e+02 2.700e+00 2.980e+00\n",
      "  2.600e-01 1.860e+00 5.100e+00 1.040e+00 3.470e+00 9.200e+02]\n",
      " [1.229e+01 1.410e+00 1.980e+00 1.600e+01 8.500e+01 2.550e+00 2.500e+00\n",
      "  2.900e-01 1.770e+00 2.900e+00 1.230e+00 2.740e+00 4.280e+02]\n",
      " [1.179e+01 2.130e+00 2.780e+00 2.850e+01 9.200e+01 2.130e+00 2.240e+00\n",
      "  5.800e-01 1.760e+00 3.000e+00 9.700e-01 2.440e+00 4.660e+02]\n",
      " [1.285e+01 1.600e+00 2.520e+00 1.780e+01 9.500e+01 2.480e+00 2.370e+00\n",
      "  2.600e-01 1.460e+00 3.930e+00 1.090e+00 3.630e+00 1.015e+03]\n",
      " [1.383e+01 1.650e+00 2.600e+00 1.720e+01 9.400e+01 2.450e+00 2.990e+00\n",
      "  2.200e-01 2.290e+00 5.600e+00 1.240e+00 3.370e+00 1.265e+03]\n",
      " [1.208e+01 1.330e+00 2.300e+00 2.360e+01 7.000e+01 2.200e+00 1.590e+00\n",
      "  4.200e-01 1.380e+00 1.740e+00 1.070e+00 3.210e+00 6.250e+02]] [2 2 1 2 0 1 1 0 1 1 0 1 2 2 2 2 1 0 0 1 1 2 1 1 2 0 2 2 0 0 2 1 0 1 0 2 1\n",
      " 0 2 0 1 1 1 0 1 0 1 1 0 0 0 2 1 0 1 0 2 0 1 0 1 1 1 2 2 0 1 1 1 2 0 2 1 1\n",
      " 2 1 2 0 1 0 2 0 0 1 2 1 0 0 0 0 0 1 2 1 2 0 1 0 0 2 1 2 1 1 2 2 1 2 0 1 2\n",
      " 1 1 1 2 0 0 0 1 1 1 2 0 2 1 2 1 1 2 1 2 2 0] [0 1 0 2 2 0 1 1 0 1 0 1 1 0 1 1 1 0 0 0 0 2 1 0 0 0 2 2 2 1 1 2 1 1 1 0 0\n",
      " 2 2 0 1 1 0 0 1]\n"
     ]
    }
   ],
   "source": [
    "from sklearn.ensemble import StackingClassifier\n",
    "wine = load_wine()\n",
    "X = wine.data\n",
    "y = wine.target\n",
    "X_train, X_test, y_train, y_test = train_test_split(X, y, test_size=0.25, random_state=44)\n",
    "print(X_train, X_test, y_train, y_test)"
   ]
  },
  {
   "cell_type": "code",
   "execution_count": 77,
   "id": "3d2d03eb",
   "metadata": {},
   "outputs": [
    {
     "name": "stdout",
     "output_type": "stream",
     "text": [
      "ACCURACY - 0.9555555555555556\n"
     ]
    }
   ],
   "source": [
    "base_models = [\n",
    "    ('rf', RandomForestClassifier(n_estimators=50, random_state=44)),\n",
    "    ('knn', KNeighborsClassifier(n_neighbors=5))\n",
    "]\n",
    "stacking_clf = StackingClassifier(estimators=base_models, final_estimator=LogisticRegression())\n",
    "stacking_clf.fit(X_train, y_train)\n",
    "accuracy = accuracy_score(y_test, y_pred)\n",
    "\n",
    "print(\"ACCURACY -\",accuracy)\n"
   ]
  },
  {
   "cell_type": "markdown",
   "id": "04cc2b25",
   "metadata": {},
   "source": [
    "- **BAGGING**"
   ]
  },
  {
   "cell_type": "code",
   "execution_count": 78,
   "id": "3deef949",
   "metadata": {},
   "outputs": [
    {
     "name": "stdout",
     "output_type": "stream",
     "text": [
      "Accuracy: 0.9722222222222222\n"
     ]
    }
   ],
   "source": [
    "from sklearn.ensemble import BaggingClassifier\n",
    "X_train, X_test, y_train, y_test = train_test_split(X, y, test_size=0.2, random_state=42)\n",
    "base_classifier = DecisionTreeClassifier(random_state=42)\n",
    "bagging_classifier = BaggingClassifier(base_estimator=base_classifier, n_estimators=10, random_state=42)\n",
    "bagging_classifier.fit(X_train, y_train)\n",
    "predictions = bagging_classifier.predict(X_test)\n",
    "accuracy = accuracy_score(y_test, predictions)\n",
    "print(\"Accuracy:\", accuracy)"
   ]
  },
  {
   "cell_type": "markdown",
   "id": "dc60f357",
   "metadata": {},
   "source": [
    "# BOOSTING - GRADIENT AND XG"
   ]
  },
  {
   "cell_type": "code",
   "execution_count": 80,
   "id": "1a31f25a",
   "metadata": {},
   "outputs": [],
   "source": [
    "from sklearn.ensemble import GradientBoostingClassifier"
   ]
  },
  {
   "cell_type": "code",
   "execution_count": 83,
   "id": "ff4ab1bc",
   "metadata": {},
   "outputs": [
    {
     "name": "stdout",
     "output_type": "stream",
     "text": [
      "Gradient Boosting Accuracy: 0.9444444444444444\n"
     ]
    }
   ],
   "source": [
    "gb_classifier = GradientBoostingClassifier(n_estimators=100, learning_rate=0.1, max_depth=3, random_state=42)\n",
    "gb_classifier.fit(X_train, y_train)\n",
    "predictions = gb_classifier.predict(X_test)\n",
    "accuracy = accuracy_score(y_test, predictions)\n",
    "print(\"Gradient Boosting Accuracy:\", accuracy)"
   ]
  },
  {
   "cell_type": "code",
   "execution_count": 85,
   "id": "3a4c050e",
   "metadata": {},
   "outputs": [
    {
     "name": "stdout",
     "output_type": "stream",
     "text": [
      "Collecting xgboost\n",
      "  Downloading xgboost-2.0.3-py3-none-win_amd64.whl (99.8 MB)\n",
      "     ---------------------------------------- 99.8/99.8 MB 3.8 MB/s eta 0:00:00\n",
      "Requirement already satisfied: numpy in c:\\users\\shivansh shekhar\\anaconda3\\lib\\site-packages (from xgboost) (1.21.5)\n",
      "Requirement already satisfied: scipy in c:\\users\\shivansh shekhar\\anaconda3\\lib\\site-packages (from xgboost) (1.9.1)\n",
      "Installing collected packages: xgboost\n",
      "Successfully installed xgboost-2.0.3\n",
      "Note: you may need to restart the kernel to use updated packages.\n"
     ]
    }
   ],
   "source": [
    "pip install xgboost"
   ]
  },
  {
   "cell_type": "code",
   "execution_count": 87,
   "id": "0511ddbc",
   "metadata": {},
   "outputs": [
    {
     "name": "stdout",
     "output_type": "stream",
     "text": [
      "XGBoost Accuracy: 0.9722222222222222\n"
     ]
    }
   ],
   "source": [
    "import xgboost as xgb\n",
    "X_train, X_test, y_train, y_test = train_test_split(X, y, test_size=0.2, random_state=42)\n",
    "dtrain = xgb.DMatrix(X_train, label=y_train)\n",
    "dtest = xgb.DMatrix(X_test, label=y_test)\n",
    "params = {\n",
    "    'objective': 'multi:softmax',\n",
    "    'num_class': 3,\n",
    "    'max_depth': 3,\n",
    "    'eta': 0.1,\n",
    "    'seed': 42\n",
    "}\n",
    "num_rounds = 100\n",
    "xgb_model = xgb.train(params, dtrain, num_rounds)\n",
    "predictions = xgb_model.predict(dtest)\n",
    "accuracy = accuracy_score(y_test, predictions)\n",
    "print(\"XGBoost Accuracy:\", accuracy)"
   ]
  },
  {
   "cell_type": "markdown",
   "id": "45c39fed",
   "metadata": {},
   "source": [
    "# PCA"
   ]
  },
  {
   "cell_type": "code",
   "execution_count": 88,
   "id": "3c612af9",
   "metadata": {},
   "outputs": [],
   "source": [
    "from sklearn.decomposition import PCA"
   ]
  },
  {
   "cell_type": "code",
   "execution_count": 89,
   "id": "95993399",
   "metadata": {},
   "outputs": [
    {
     "data": {
      "image/png": "[encoded data removed]",
      "text/plain": [
       "<Figure size 800x600 with 1 Axes>"
      ]
     },
     "metadata": {},
     "output_type": "display_data"
    }
   ],
   "source": [
    "pca = PCA(n_components=2)  \n",
    "X_pca = pca.fit_transform(X)\n",
    "plt.figure(figsize=(8, 6))\n",
    "for i in range(len(iris.target_names)):\n",
    "    plt.scatter(X_pca[y == i, 0], X_pca[y == i, 1], label=iris.target_names[i])\n",
    "plt.xlabel('Principal Component 1')\n",
    "plt.ylabel('Principal Component 2')\n",
    "plt.title('PCA of Iris Dataset')\n",
    "plt.legend()\n",
    "plt.show()"
   ]
  },
  {
   "cell_type": "markdown",
   "id": "56573384",
   "metadata": {},
   "source": [
    "# LDA"
   ]
  },
  {
   "cell_type": "code",
   "execution_count": 90,
   "id": "b239da8f",
   "metadata": {},
   "outputs": [],
   "source": [
    "from sklearn.discriminant_analysis import LinearDiscriminantAnalysis"
   ]
  },
  {
   "cell_type": "code",
   "execution_count": 91,
   "id": "dbe26eb3",
   "metadata": {},
   "outputs": [
    {
     "data": {
      "image/png": "[encoded data removed]",
      "text/plain": [
       "<Figure size 800x600 with 1 Axes>"
      ]
     },
     "metadata": {},
     "output_type": "display_data"
    }
   ],
   "source": [
    "lda = LinearDiscriminantAnalysis(n_components=2)\n",
    "X_lda = lda.fit_transform(X, y)\n",
    "plt.figure(figsize=(8, 6))\n",
    "for i in range(len(iris.target_names)):\n",
    "    plt.scatter(X_lda[y == i, 0], X_lda[y == i, 1], label=iris.target_names[i])\n",
    "plt.xlabel('LD1')\n",
    "plt.ylabel('LD2')\n",
    "plt.title('LDA of Iris Dataset')\n",
    "plt.legend()\n",
    "plt.show()"
   ]
  },
  {
   "cell_type": "code",
   "execution_count": null,
   "id": "5f55eaaa",
   "metadata": {},
   "outputs": [],
   "source": []
  }
 ],
 "metadata": {
  "kernelspec": {
   "display_name": "Python 3 (ipykernel)",
   "language": "python",
   "name": "python3"
  },
  "language_info": {
   "codemirror_mode": {
    "name": "ipython",
    "version": 3
   },
   "file_extension": ".py",
   "mimetype": "text/x-python",
   "name": "python",
   "nbconvert_exporter": "python",
   "pygments_lexer": "ipython3",
   "version": "3.9.13"
  }
 },
 "nbformat": 4,
 "nbformat_minor": 5
}
